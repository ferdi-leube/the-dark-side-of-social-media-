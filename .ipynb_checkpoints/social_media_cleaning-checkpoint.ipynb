{
 "cells": [
  {
   "cell_type": "code",
   "execution_count": 1,
   "id": "653eafe0",
   "metadata": {},
   "outputs": [],
   "source": [
    "import pandas as pd\n",
    "import numpy as np"
   ]
  },
  {
   "cell_type": "code",
   "execution_count": 2,
   "id": "079913b9",
   "metadata": {},
   "outputs": [],
   "source": [
    "def nunique_values(data):\n",
    "    for x in list(data.columns):\n",
    "        print(x)\n",
    "        print(data[x].nunique())\n",
    "        print('\\n')\n",
    "    \n",
    "    \n",
    "def unique_values(data):  \n",
    "    for x in list(data.columns):\n",
    "        print(x)\n",
    "        print(data[x].unique())\n",
    "        print('\\n')\n",
    "        \n",
    "def maxmin(data,columns):\n",
    "    for x in columns:\n",
    "        print(x)\n",
    "        print('max value: ', data[x].max())\n",
    "        print('min value: ', data[x].min())\n",
    "        print('\\n')\n",
    "    "
   ]
  },
  {
   "cell_type": "code",
   "execution_count": 3,
   "id": "2e53a593",
   "metadata": {},
   "outputs": [
    {
     "data": {
      "text/html": [
       "<div>\n",
       "<style scoped>\n",
       "    .dataframe tbody tr th:only-of-type {\n",
       "        vertical-align: middle;\n",
       "    }\n",
       "\n",
       "    .dataframe tbody tr th {\n",
       "        vertical-align: top;\n",
       "    }\n",
       "\n",
       "    .dataframe thead th {\n",
       "        text-align: right;\n",
       "    }\n",
       "</style>\n",
       "<table border=\"1\" class=\"dataframe\">\n",
       "  <thead>\n",
       "    <tr style=\"text-align: right;\">\n",
       "      <th></th>\n",
       "      <th>Entity</th>\n",
       "      <th>Year</th>\n",
       "      <th>Monthly active users (Statista and TNW (2019))</th>\n",
       "    </tr>\n",
       "  </thead>\n",
       "  <tbody>\n",
       "    <tr>\n",
       "      <th>0</th>\n",
       "      <td>Facebook</td>\n",
       "      <td>2008</td>\n",
       "      <td>100000000</td>\n",
       "    </tr>\n",
       "    <tr>\n",
       "      <th>1</th>\n",
       "      <td>Facebook</td>\n",
       "      <td>2009</td>\n",
       "      <td>276000000</td>\n",
       "    </tr>\n",
       "    <tr>\n",
       "      <th>2</th>\n",
       "      <td>Facebook</td>\n",
       "      <td>2010</td>\n",
       "      <td>517750000</td>\n",
       "    </tr>\n",
       "    <tr>\n",
       "      <th>3</th>\n",
       "      <td>Facebook</td>\n",
       "      <td>2011</td>\n",
       "      <td>766000000</td>\n",
       "    </tr>\n",
       "    <tr>\n",
       "      <th>4</th>\n",
       "      <td>Facebook</td>\n",
       "      <td>2012</td>\n",
       "      <td>979750000</td>\n",
       "    </tr>\n",
       "    <tr>\n",
       "      <th>...</th>\n",
       "      <td>...</td>\n",
       "      <td>...</td>\n",
       "      <td>...</td>\n",
       "    </tr>\n",
       "    <tr>\n",
       "      <th>137</th>\n",
       "      <td>YouTube</td>\n",
       "      <td>2014</td>\n",
       "      <td>1249451725</td>\n",
       "    </tr>\n",
       "    <tr>\n",
       "      <th>138</th>\n",
       "      <td>YouTube</td>\n",
       "      <td>2015</td>\n",
       "      <td>1328133360</td>\n",
       "    </tr>\n",
       "    <tr>\n",
       "      <th>139</th>\n",
       "      <td>YouTube</td>\n",
       "      <td>2016</td>\n",
       "      <td>1399053600</td>\n",
       "    </tr>\n",
       "    <tr>\n",
       "      <th>140</th>\n",
       "      <td>YouTube</td>\n",
       "      <td>2017</td>\n",
       "      <td>1495657000</td>\n",
       "    </tr>\n",
       "    <tr>\n",
       "      <th>141</th>\n",
       "      <td>YouTube</td>\n",
       "      <td>2018</td>\n",
       "      <td>1900000000</td>\n",
       "    </tr>\n",
       "  </tbody>\n",
       "</table>\n",
       "<p>142 rows × 3 columns</p>\n",
       "</div>"
      ],
      "text/plain": [
       "       Entity  Year  Monthly active users (Statista and TNW (2019))\n",
       "0    Facebook  2008                                       100000000\n",
       "1    Facebook  2009                                       276000000\n",
       "2    Facebook  2010                                       517750000\n",
       "3    Facebook  2011                                       766000000\n",
       "4    Facebook  2012                                       979750000\n",
       "..        ...   ...                                             ...\n",
       "137   YouTube  2014                                      1249451725\n",
       "138   YouTube  2015                                      1328133360\n",
       "139   YouTube  2016                                      1399053600\n",
       "140   YouTube  2017                                      1495657000\n",
       "141   YouTube  2018                                      1900000000\n",
       "\n",
       "[142 rows x 3 columns]"
      ]
     },
     "execution_count": 3,
     "metadata": {},
     "output_type": "execute_result"
    }
   ],
   "source": [
    "data = pd.read_csv(r\"C:\\Users\\leube\\Downloads\\users-by-social-media-platform.csv\")\n",
    "data"
   ]
  },
  {
   "cell_type": "code",
   "execution_count": 4,
   "id": "896ba9f7",
   "metadata": {},
   "outputs": [
    {
     "name": "stdout",
     "output_type": "stream",
     "text": [
      "<class 'pandas.core.frame.DataFrame'>\n",
      "RangeIndex: 142 entries, 0 to 141\n",
      "Data columns (total 3 columns):\n",
      " #   Column                                          Non-Null Count  Dtype \n",
      "---  ------                                          --------------  ----- \n",
      " 0   Entity                                          142 non-null    object\n",
      " 1   Year                                            142 non-null    int64 \n",
      " 2   Monthly active users (Statista and TNW (2019))  142 non-null    int64 \n",
      "dtypes: int64(2), object(1)\n",
      "memory usage: 3.5+ KB\n"
     ]
    }
   ],
   "source": [
    "data.info()\n",
    "# no missing values, all column types are ok"
   ]
  },
  {
   "cell_type": "code",
   "execution_count": 5,
   "id": "b3278807",
   "metadata": {},
   "outputs": [
    {
     "name": "stdout",
     "output_type": "stream",
     "text": [
      "Entity\n",
      "19\n",
      "\n",
      "\n",
      "Year\n",
      "18\n",
      "\n",
      "\n",
      "Monthly active users (Statista and TNW (2019))\n",
      "135\n",
      "\n",
      "\n"
     ]
    }
   ],
   "source": [
    "nunique_values(data)"
   ]
  },
  {
   "cell_type": "code",
   "execution_count": 6,
   "id": "fe11f503",
   "metadata": {},
   "outputs": [
    {
     "name": "stdout",
     "output_type": "stream",
     "text": [
      "Entity\n",
      "['Facebook' 'Flickr' 'Friendster' 'Google Buzz' 'Google+' 'Hi5'\n",
      " 'Instagram' 'MySpace' 'Orkut' 'Pinterest' 'Reddit' 'Snapchat' 'TikTok'\n",
      " 'Tumblr' 'Twitter' 'WeChat' 'Weibo' 'Whatsapp' 'YouTube']\n",
      "\n",
      "\n",
      "Year\n",
      "[2008 2009 2010 2011 2012 2013 2014 2015 2016 2017 2018 2019 2004 2005\n",
      " 2006 2007 2002 2003]\n",
      "\n",
      "\n",
      "Monthly active users (Statista and TNW (2019))\n",
      "[ 100000000  276000000  517750000  766000000  979750000 1170500000\n",
      " 1334000000 1516750000 1753500000 2035750000 2255250000 2375000000\n",
      "    3675135    7399354   14949270   29299875   30000000   41834525\n",
      "   54708063   66954600   79664888   80000000    3000000    4470000\n",
      "    5970054    7459742    8989854   24253200   51008911   28804331\n",
      "  166029650  170000000  107319100  205654700  254859015  298950015\n",
      "  398648000  495657000  430000000    9731610   19932360   29533250\n",
      "   55045618   57893524   59953290   46610848  117500000  250000000\n",
      "  400000000  550000000  750000000 1000000000     980036   19490059\n",
      "   54763260   69299875   72408233   70133095   68046710   46003536\n",
      "    4900180    9865805   14966180   26916562   44357628   47366905\n",
      "   49941613   47609080   45067022  143250000  195000000  246500000\n",
      "  291000000     248309     488331    1944940    3893524  135786956\n",
      "  163346676  238972480  297394200  355000000  238648000  239142500\n",
      "  500000000  146890156  293482050  388721163  475923363  565796720\n",
      "  593783960  624000000   43250000   92750000  160250000  223675000\n",
      "  304500000  314500000  328250000  329500000  330000000   47818400\n",
      "  118123370  196523760  444232415  660843407  847512320  921742750\n",
      "   19532900   48691040   79195730  118261880  154890345  208716685\n",
      "  281026560  357569030  431000000  300000000  498750000  800000000\n",
      " 1333333333    1946322   19878248  143932250  294493950  413611440\n",
      "  480551990  642669824  844638200 1065223075 1249451725 1328133360\n",
      " 1399053600 1495657000 1900000000]\n",
      "\n",
      "\n"
     ]
    }
   ],
   "source": [
    "unique_values(data)"
   ]
  },
  {
   "cell_type": "code",
   "execution_count": 17,
   "id": "ed42bfc4",
   "metadata": {},
   "outputs": [
    {
     "name": "stdout",
     "output_type": "stream",
     "text": [
      "Year\n",
      "max value:  2019\n",
      "min value:  2002\n",
      "\n",
      "\n"
     ]
    }
   ],
   "source": [
    "maxmin(data,['Year'])"
   ]
  },
  {
   "cell_type": "code",
   "execution_count": 8,
   "id": "00ea4794",
   "metadata": {},
   "outputs": [],
   "source": [
    "usersbyyears = data.groupby(by='Year').agg({'Monthly active users (Statista and TNW (2019))':'sum'})\n",
    "usersbyyear = usersbyyears.copy()\n",
    "usersbyyear.rename(columns={'Monthly active users (Statista and TNW (2019))':'average_monthly_visits'},inplace=True)"
   ]
  },
  {
   "cell_type": "code",
   "execution_count": 16,
   "id": "83b21d7d",
   "metadata": {},
   "outputs": [
    {
     "data": {
      "text/html": [
       "<div>\n",
       "<style scoped>\n",
       "    .dataframe tbody tr th:only-of-type {\n",
       "        vertical-align: middle;\n",
       "    }\n",
       "\n",
       "    .dataframe tbody tr th {\n",
       "        vertical-align: top;\n",
       "    }\n",
       "\n",
       "    .dataframe thead th {\n",
       "        text-align: right;\n",
       "    }\n",
       "</style>\n",
       "<table border=\"1\" class=\"dataframe\">\n",
       "  <thead>\n",
       "    <tr style=\"text-align: right;\">\n",
       "      <th></th>\n",
       "      <th>Year</th>\n",
       "      <th>average_monthly_visits</th>\n",
       "    </tr>\n",
       "  </thead>\n",
       "  <tbody>\n",
       "    <tr>\n",
       "      <th>0</th>\n",
       "      <td>2002</td>\n",
       "      <td>3000000</td>\n",
       "    </tr>\n",
       "    <tr>\n",
       "      <th>1</th>\n",
       "      <td>2003</td>\n",
       "      <td>4470000</td>\n",
       "    </tr>\n",
       "    <tr>\n",
       "      <th>2</th>\n",
       "      <td>2004</td>\n",
       "      <td>15525405</td>\n",
       "    </tr>\n",
       "    <tr>\n",
       "      <th>3</th>\n",
       "      <td>2005</td>\n",
       "      <td>55892892</td>\n",
       "    </tr>\n",
       "    <tr>\n",
       "      <th>4</th>\n",
       "      <td>2006</td>\n",
       "      <td>133727481</td>\n",
       "    </tr>\n",
       "    <tr>\n",
       "      <th>5</th>\n",
       "      <td>2007</td>\n",
       "      <td>323723343</td>\n",
       "    </tr>\n",
       "    <tr>\n",
       "      <th>6</th>\n",
       "      <td>2008</td>\n",
       "      <td>649259280</td>\n",
       "    </tr>\n",
       "    <tr>\n",
       "      <th>7</th>\n",
       "      <td>2009</td>\n",
       "      <td>939537344</td>\n",
       "    </tr>\n",
       "    <tr>\n",
       "      <th>8</th>\n",
       "      <td>2010</td>\n",
       "      <td>1459764216</td>\n",
       "    </tr>\n",
       "    <tr>\n",
       "      <th>9</th>\n",
       "      <td>2011</td>\n",
       "      <td>1975107328</td>\n",
       "    </tr>\n",
       "    <tr>\n",
       "      <th>10</th>\n",
       "      <td>2012</td>\n",
       "      <td>2730898466</td>\n",
       "    </tr>\n",
       "    <tr>\n",
       "      <th>11</th>\n",
       "      <td>2013</td>\n",
       "      <td>3940820465</td>\n",
       "    </tr>\n",
       "    <tr>\n",
       "      <th>12</th>\n",
       "      <td>2014</td>\n",
       "      <td>5104366619</td>\n",
       "    </tr>\n",
       "    <tr>\n",
       "      <th>13</th>\n",
       "      <td>2015</td>\n",
       "      <td>6327163506</td>\n",
       "    </tr>\n",
       "    <tr>\n",
       "      <th>14</th>\n",
       "      <td>2016</td>\n",
       "      <td>7730907680</td>\n",
       "    </tr>\n",
       "    <tr>\n",
       "      <th>15</th>\n",
       "      <td>2017</td>\n",
       "      <td>9043279773</td>\n",
       "    </tr>\n",
       "    <tr>\n",
       "      <th>16</th>\n",
       "      <td>2018</td>\n",
       "      <td>9071250000</td>\n",
       "    </tr>\n",
       "  </tbody>\n",
       "</table>\n",
       "</div>"
      ],
      "text/plain": [
       "    Year  average_monthly_visits\n",
       "0   2002                 3000000\n",
       "1   2003                 4470000\n",
       "2   2004                15525405\n",
       "3   2005                55892892\n",
       "4   2006               133727481\n",
       "5   2007               323723343\n",
       "6   2008               649259280\n",
       "7   2009               939537344\n",
       "8   2010              1459764216\n",
       "9   2011              1975107328\n",
       "10  2012              2730898466\n",
       "11  2013              3940820465\n",
       "12  2014              5104366619\n",
       "13  2015              6327163506\n",
       "14  2016              7730907680\n",
       "15  2017              9043279773\n",
       "16  2018              9071250000"
      ]
     },
     "execution_count": 16,
     "metadata": {},
     "output_type": "execute_result"
    }
   ],
   "source": [
    "usersbyyear"
   ]
  },
  {
   "cell_type": "code",
   "execution_count": 10,
   "id": "b83c1273",
   "metadata": {},
   "outputs": [],
   "source": [
    "usersbyyear.to_csv(r'C:\\Users\\leube\\Ironhack\\Ironprojects\\Module_3\\final_project\\clean_data\\sc_cleaned.csv')"
   ]
  },
  {
   "cell_type": "code",
   "execution_count": 11,
   "id": "95a122af",
   "metadata": {},
   "outputs": [],
   "source": [
    "import seaborn as sns\n",
    "import matplotlib.pyplot as plt"
   ]
  },
  {
   "cell_type": "code",
   "execution_count": 14,
   "id": "209bcb91",
   "metadata": {},
   "outputs": [],
   "source": [
    "usersbyyear.drop(usersbyyear[usersbyyear['Year']==2019].index,inplace=True)"
   ]
  },
  {
   "cell_type": "code",
   "execution_count": 12,
   "id": "21660f39",
   "metadata": {},
   "outputs": [],
   "source": [
    "usersbyyear.reset_index(inplace=True)"
   ]
  },
  {
   "cell_type": "code",
   "execution_count": 15,
   "id": "9d048b08",
   "metadata": {},
   "outputs": [
    {
     "data": {
      "text/plain": [
       "<AxesSubplot:xlabel='Year', ylabel='average_monthly_visits'>"
      ]
     },
     "execution_count": 15,
     "metadata": {},
     "output_type": "execute_result"
    },
    {
     "data": {
      "image/png": "[encoded data removed]",
      "text/plain": [
       "<Figure size 432x288 with 1 Axes>"
      ]
     },
     "metadata": {
      "needs_background": "light"
     },
     "output_type": "display_data"
    }
   ],
   "source": [
    "sns.lineplot(data=usersbyyear,x='Year',y='average_monthly_visits')"
   ]
  }
 ],
 "metadata": {
  "kernelspec": {
   "display_name": "Python 3 (ipykernel)",
   "language": "python",
   "name": "python3"
  },
  "language_info": {
   "codemirror_mode": {
    "name": "ipython",
    "version": 3
   },
   "file_extension": ".py",
   "mimetype": "text/x-python",
   "name": "python",
   "nbconvert_exporter": "python",
   "pygments_lexer": "ipython3",
   "version": "3.9.12"
  }
 },
 "nbformat": 4,
 "nbformat_minor": 5
}
