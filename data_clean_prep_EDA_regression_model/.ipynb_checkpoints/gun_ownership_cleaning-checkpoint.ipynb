{
 "cells": [
  {
   "cell_type": "code",
   "execution_count": 1,
   "id": "71d02f03",
   "metadata": {},
   "outputs": [],
   "source": [
    "# two datasets, deciding on later which to take\n",
    "# want to take in for suethe suicide part of first dataset\n",
    "# ask ksenia if already scaling will be a problem for when integrating in features for regressio model\n",
    "\n",
    "import pandas as pd\n",
    "import numpy as np\n",
    "import seaborn as sns\n",
    "import matplotlib.pyplot as plt"
   ]
  },
  {
   "cell_type": "code",
   "execution_count": 2,
   "id": "c1d3ccc0",
   "metadata": {},
   "outputs": [
    {
     "data": {
      "text/html": [
       "<div>\n",
       "<style scoped>\n",
       "    .dataframe tbody tr th:only-of-type {\n",
       "        vertical-align: middle;\n",
       "    }\n",
       "\n",
       "    .dataframe tbody tr th {\n",
       "        vertical-align: top;\n",
       "    }\n",
       "\n",
       "    .dataframe thead th {\n",
       "        text-align: right;\n",
       "    }\n",
       "</style>\n",
       "<table border=\"1\" class=\"dataframe\">\n",
       "  <thead>\n",
       "    <tr style=\"text-align: right;\">\n",
       "      <th></th>\n",
       "      <th>FIP</th>\n",
       "      <th>Year</th>\n",
       "      <th>STATE</th>\n",
       "      <th>HFR</th>\n",
       "      <th>HFR_se</th>\n",
       "      <th>universl</th>\n",
       "      <th>permit</th>\n",
       "      <th>Fem_FS_S</th>\n",
       "      <th>Male_FS_S</th>\n",
       "      <th>BRFSS</th>\n",
       "      <th>GALLUP</th>\n",
       "      <th>GSS</th>\n",
       "      <th>PEW</th>\n",
       "      <th>HuntLic</th>\n",
       "      <th>GunsAmmo</th>\n",
       "      <th>BackChk</th>\n",
       "      <th>PewQChng</th>\n",
       "      <th>BS1</th>\n",
       "      <th>BS2</th>\n",
       "      <th>BS3</th>\n",
       "    </tr>\n",
       "  </thead>\n",
       "  <tbody>\n",
       "    <tr>\n",
       "      <th>0</th>\n",
       "      <td>1</td>\n",
       "      <td>1980</td>\n",
       "      <td>Alabama</td>\n",
       "      <td>0.608</td>\n",
       "      <td>0.031</td>\n",
       "      <td>0</td>\n",
       "      <td>0</td>\n",
       "      <td>0.824324</td>\n",
       "      <td>0.833795</td>\n",
       "      <td>-9.0</td>\n",
       "      <td>0.55395</td>\n",
       "      <td>0.583632</td>\n",
       "      <td>-9.000000</td>\n",
       "      <td>0.291102</td>\n",
       "      <td>-0.509164</td>\n",
       "      <td>-9.000000</td>\n",
       "      <td>0</td>\n",
       "      <td>0.0</td>\n",
       "      <td>0.0</td>\n",
       "      <td>0.0</td>\n",
       "    </tr>\n",
       "    <tr>\n",
       "      <th>1</th>\n",
       "      <td>1</td>\n",
       "      <td>1981</td>\n",
       "      <td>Alabama</td>\n",
       "      <td>0.597</td>\n",
       "      <td>0.047</td>\n",
       "      <td>0</td>\n",
       "      <td>0</td>\n",
       "      <td>0.692308</td>\n",
       "      <td>0.831126</td>\n",
       "      <td>-9.0</td>\n",
       "      <td>-9.00000</td>\n",
       "      <td>-9.000000</td>\n",
       "      <td>-9.000000</td>\n",
       "      <td>0.294962</td>\n",
       "      <td>-0.618954</td>\n",
       "      <td>-9.000000</td>\n",
       "      <td>0</td>\n",
       "      <td>1.0</td>\n",
       "      <td>0.0</td>\n",
       "      <td>0.0</td>\n",
       "    </tr>\n",
       "    <tr>\n",
       "      <th>2</th>\n",
       "      <td>1</td>\n",
       "      <td>1982</td>\n",
       "      <td>Alabama</td>\n",
       "      <td>0.661</td>\n",
       "      <td>0.036</td>\n",
       "      <td>0</td>\n",
       "      <td>0</td>\n",
       "      <td>0.771739</td>\n",
       "      <td>0.821429</td>\n",
       "      <td>-9.0</td>\n",
       "      <td>-9.00000</td>\n",
       "      <td>0.655196</td>\n",
       "      <td>-9.000000</td>\n",
       "      <td>0.290545</td>\n",
       "      <td>-0.526692</td>\n",
       "      <td>-9.000000</td>\n",
       "      <td>0</td>\n",
       "      <td>2.0</td>\n",
       "      <td>0.0</td>\n",
       "      <td>0.0</td>\n",
       "    </tr>\n",
       "    <tr>\n",
       "      <th>3</th>\n",
       "      <td>1</td>\n",
       "      <td>1983</td>\n",
       "      <td>Alabama</td>\n",
       "      <td>0.586</td>\n",
       "      <td>0.038</td>\n",
       "      <td>0</td>\n",
       "      <td>0</td>\n",
       "      <td>0.688172</td>\n",
       "      <td>0.819277</td>\n",
       "      <td>-9.0</td>\n",
       "      <td>0.61144</td>\n",
       "      <td>-9.000000</td>\n",
       "      <td>-9.000000</td>\n",
       "      <td>0.284983</td>\n",
       "      <td>-0.713227</td>\n",
       "      <td>-9.000000</td>\n",
       "      <td>0</td>\n",
       "      <td>3.0</td>\n",
       "      <td>0.0</td>\n",
       "      <td>0.0</td>\n",
       "    </tr>\n",
       "    <tr>\n",
       "      <th>4</th>\n",
       "      <td>1</td>\n",
       "      <td>1984</td>\n",
       "      <td>Alabama</td>\n",
       "      <td>0.624</td>\n",
       "      <td>0.036</td>\n",
       "      <td>0</td>\n",
       "      <td>0</td>\n",
       "      <td>0.710000</td>\n",
       "      <td>0.775956</td>\n",
       "      <td>-9.0</td>\n",
       "      <td>-9.00000</td>\n",
       "      <td>0.626933</td>\n",
       "      <td>-9.000000</td>\n",
       "      <td>0.281622</td>\n",
       "      <td>-0.733305</td>\n",
       "      <td>-9.000000</td>\n",
       "      <td>0</td>\n",
       "      <td>4.0</td>\n",
       "      <td>0.0</td>\n",
       "      <td>0.0</td>\n",
       "    </tr>\n",
       "    <tr>\n",
       "      <th>...</th>\n",
       "      <td>...</td>\n",
       "      <td>...</td>\n",
       "      <td>...</td>\n",
       "      <td>...</td>\n",
       "      <td>...</td>\n",
       "      <td>...</td>\n",
       "      <td>...</td>\n",
       "      <td>...</td>\n",
       "      <td>...</td>\n",
       "      <td>...</td>\n",
       "      <td>...</td>\n",
       "      <td>...</td>\n",
       "      <td>...</td>\n",
       "      <td>...</td>\n",
       "      <td>...</td>\n",
       "      <td>...</td>\n",
       "      <td>...</td>\n",
       "      <td>...</td>\n",
       "      <td>...</td>\n",
       "      <td>...</td>\n",
       "    </tr>\n",
       "    <tr>\n",
       "      <th>1845</th>\n",
       "      <td>56</td>\n",
       "      <td>2012</td>\n",
       "      <td>Wyoming</td>\n",
       "      <td>0.597</td>\n",
       "      <td>0.029</td>\n",
       "      <td>0</td>\n",
       "      <td>0</td>\n",
       "      <td>0.375000</td>\n",
       "      <td>0.647482</td>\n",
       "      <td>-9.0</td>\n",
       "      <td>0.66206</td>\n",
       "      <td>-9.000000</td>\n",
       "      <td>0.622224</td>\n",
       "      <td>0.545627</td>\n",
       "      <td>2.973924</td>\n",
       "      <td>1.562481</td>\n",
       "      <td>0</td>\n",
       "      <td>12.0</td>\n",
       "      <td>12.0</td>\n",
       "      <td>8.0</td>\n",
       "    </tr>\n",
       "    <tr>\n",
       "      <th>1846</th>\n",
       "      <td>56</td>\n",
       "      <td>2013</td>\n",
       "      <td>Wyoming</td>\n",
       "      <td>0.613</td>\n",
       "      <td>0.032</td>\n",
       "      <td>0</td>\n",
       "      <td>0</td>\n",
       "      <td>0.529412</td>\n",
       "      <td>0.714286</td>\n",
       "      <td>-9.0</td>\n",
       "      <td>-9.00000</td>\n",
       "      <td>-9.000000</td>\n",
       "      <td>0.685266</td>\n",
       "      <td>0.542697</td>\n",
       "      <td>3.066252</td>\n",
       "      <td>1.638737</td>\n",
       "      <td>1</td>\n",
       "      <td>12.0</td>\n",
       "      <td>12.0</td>\n",
       "      <td>9.0</td>\n",
       "    </tr>\n",
       "    <tr>\n",
       "      <th>1847</th>\n",
       "      <td>56</td>\n",
       "      <td>2014</td>\n",
       "      <td>Wyoming</td>\n",
       "      <td>0.608</td>\n",
       "      <td>0.044</td>\n",
       "      <td>0</td>\n",
       "      <td>0</td>\n",
       "      <td>0.583333</td>\n",
       "      <td>0.666667</td>\n",
       "      <td>-9.0</td>\n",
       "      <td>-9.00000</td>\n",
       "      <td>-9.000000</td>\n",
       "      <td>-9.000000</td>\n",
       "      <td>0.538761</td>\n",
       "      <td>3.092854</td>\n",
       "      <td>1.603822</td>\n",
       "      <td>1</td>\n",
       "      <td>12.0</td>\n",
       "      <td>12.0</td>\n",
       "      <td>10.0</td>\n",
       "    </tr>\n",
       "    <tr>\n",
       "      <th>1848</th>\n",
       "      <td>56</td>\n",
       "      <td>2015</td>\n",
       "      <td>Wyoming</td>\n",
       "      <td>0.549</td>\n",
       "      <td>0.032</td>\n",
       "      <td>0</td>\n",
       "      <td>0</td>\n",
       "      <td>0.393939</td>\n",
       "      <td>0.661290</td>\n",
       "      <td>-9.0</td>\n",
       "      <td>-9.00000</td>\n",
       "      <td>-9.000000</td>\n",
       "      <td>0.611531</td>\n",
       "      <td>0.544356</td>\n",
       "      <td>2.910414</td>\n",
       "      <td>1.348323</td>\n",
       "      <td>1</td>\n",
       "      <td>12.0</td>\n",
       "      <td>12.0</td>\n",
       "      <td>11.0</td>\n",
       "    </tr>\n",
       "    <tr>\n",
       "      <th>1849</th>\n",
       "      <td>56</td>\n",
       "      <td>2016</td>\n",
       "      <td>Wyoming</td>\n",
       "      <td>0.607</td>\n",
       "      <td>0.032</td>\n",
       "      <td>0</td>\n",
       "      <td>0</td>\n",
       "      <td>0.375000</td>\n",
       "      <td>0.669643</td>\n",
       "      <td>-9.0</td>\n",
       "      <td>-9.00000</td>\n",
       "      <td>-9.000000</td>\n",
       "      <td>0.725993</td>\n",
       "      <td>0.538439</td>\n",
       "      <td>2.899840</td>\n",
       "      <td>1.265807</td>\n",
       "      <td>1</td>\n",
       "      <td>12.0</td>\n",
       "      <td>12.0</td>\n",
       "      <td>12.0</td>\n",
       "    </tr>\n",
       "  </tbody>\n",
       "</table>\n",
       "<p>1850 rows × 20 columns</p>\n",
       "</div>"
      ],
      "text/plain": [
       "      FIP  Year    STATE    HFR  HFR_se  universl  permit  Fem_FS_S  \\\n",
       "0       1  1980  Alabama  0.608   0.031         0       0  0.824324   \n",
       "1       1  1981  Alabama  0.597   0.047         0       0  0.692308   \n",
       "2       1  1982  Alabama  0.661   0.036         0       0  0.771739   \n",
       "3       1  1983  Alabama  0.586   0.038         0       0  0.688172   \n",
       "4       1  1984  Alabama  0.624   0.036         0       0  0.710000   \n",
       "...   ...   ...      ...    ...     ...       ...     ...       ...   \n",
       "1845   56  2012  Wyoming  0.597   0.029         0       0  0.375000   \n",
       "1846   56  2013  Wyoming  0.613   0.032         0       0  0.529412   \n",
       "1847   56  2014  Wyoming  0.608   0.044         0       0  0.583333   \n",
       "1848   56  2015  Wyoming  0.549   0.032         0       0  0.393939   \n",
       "1849   56  2016  Wyoming  0.607   0.032         0       0  0.375000   \n",
       "\n",
       "      Male_FS_S  BRFSS   GALLUP       GSS       PEW   HuntLic  GunsAmmo  \\\n",
       "0      0.833795   -9.0  0.55395  0.583632 -9.000000  0.291102 -0.509164   \n",
       "1      0.831126   -9.0 -9.00000 -9.000000 -9.000000  0.294962 -0.618954   \n",
       "2      0.821429   -9.0 -9.00000  0.655196 -9.000000  0.290545 -0.526692   \n",
       "3      0.819277   -9.0  0.61144 -9.000000 -9.000000  0.284983 -0.713227   \n",
       "4      0.775956   -9.0 -9.00000  0.626933 -9.000000  0.281622 -0.733305   \n",
       "...         ...    ...      ...       ...       ...       ...       ...   \n",
       "1845   0.647482   -9.0  0.66206 -9.000000  0.622224  0.545627  2.973924   \n",
       "1846   0.714286   -9.0 -9.00000 -9.000000  0.685266  0.542697  3.066252   \n",
       "1847   0.666667   -9.0 -9.00000 -9.000000 -9.000000  0.538761  3.092854   \n",
       "1848   0.661290   -9.0 -9.00000 -9.000000  0.611531  0.544356  2.910414   \n",
       "1849   0.669643   -9.0 -9.00000 -9.000000  0.725993  0.538439  2.899840   \n",
       "\n",
       "       BackChk  PewQChng   BS1   BS2   BS3  \n",
       "0    -9.000000         0   0.0   0.0   0.0  \n",
       "1    -9.000000         0   1.0   0.0   0.0  \n",
       "2    -9.000000         0   2.0   0.0   0.0  \n",
       "3    -9.000000         0   3.0   0.0   0.0  \n",
       "4    -9.000000         0   4.0   0.0   0.0  \n",
       "...        ...       ...   ...   ...   ...  \n",
       "1845  1.562481         0  12.0  12.0   8.0  \n",
       "1846  1.638737         1  12.0  12.0   9.0  \n",
       "1847  1.603822         1  12.0  12.0  10.0  \n",
       "1848  1.348323         1  12.0  12.0  11.0  \n",
       "1849  1.265807         1  12.0  12.0  12.0  \n",
       "\n",
       "[1850 rows x 20 columns]"
      ]
     },
     "execution_count": 2,
     "metadata": {},
     "output_type": "execute_result"
    }
   ],
   "source": [
    "data = pd.read_csv(r\"C:\\Users\\leube\\Downloads\\gun_ownership_and_extra.csv\", sep=';')\n",
    "data"
   ]
  },
  {
   "cell_type": "code",
   "execution_count": 3,
   "id": "a7b85f11",
   "metadata": {},
   "outputs": [
    {
     "name": "stdout",
     "output_type": "stream",
     "text": [
      "<class 'pandas.core.frame.DataFrame'>\n",
      "RangeIndex: 1850 entries, 0 to 1849\n",
      "Data columns (total 20 columns):\n",
      " #   Column     Non-Null Count  Dtype  \n",
      "---  ------     --------------  -----  \n",
      " 0   FIP        1850 non-null   int64  \n",
      " 1   Year       1850 non-null   int64  \n",
      " 2   STATE      1850 non-null   object \n",
      " 3   HFR        1850 non-null   float64\n",
      " 4   HFR_se     1850 non-null   float64\n",
      " 5   universl   1850 non-null   int64  \n",
      " 6   permit     1850 non-null   int64  \n",
      " 7   Fem_FS_S   1850 non-null   float64\n",
      " 8   Male_FS_S  1850 non-null   float64\n",
      " 9   BRFSS      1850 non-null   float64\n",
      " 10  GALLUP     1850 non-null   float64\n",
      " 11  GSS        1850 non-null   float64\n",
      " 12  PEW        1850 non-null   float64\n",
      " 13  HuntLic    1850 non-null   float64\n",
      " 14  GunsAmmo   1850 non-null   float64\n",
      " 15  BackChk    1850 non-null   float64\n",
      " 16  PewQChng   1850 non-null   int64  \n",
      " 17  BS1        1850 non-null   float64\n",
      " 18  BS2        1850 non-null   float64\n",
      " 19  BS3        1850 non-null   float64\n",
      "dtypes: float64(14), int64(5), object(1)\n",
      "memory usage: 289.2+ KB\n"
     ]
    }
   ],
   "source": [
    "data.info()"
   ]
  },
  {
   "cell_type": "code",
   "execution_count": 4,
   "id": "1998b5af",
   "metadata": {},
   "outputs": [
    {
     "data": {
      "text/html": [
       "<div>\n",
       "<style scoped>\n",
       "    .dataframe tbody tr th:only-of-type {\n",
       "        vertical-align: middle;\n",
       "    }\n",
       "\n",
       "    .dataframe tbody tr th {\n",
       "        vertical-align: top;\n",
       "    }\n",
       "\n",
       "    .dataframe thead th {\n",
       "        text-align: right;\n",
       "    }\n",
       "</style>\n",
       "<table border=\"1\" class=\"dataframe\">\n",
       "  <thead>\n",
       "    <tr style=\"text-align: right;\">\n",
       "      <th></th>\n",
       "      <th>FIP</th>\n",
       "      <th>Year</th>\n",
       "      <th>HFR</th>\n",
       "      <th>HFR_se</th>\n",
       "      <th>universl</th>\n",
       "      <th>permit</th>\n",
       "      <th>Fem_FS_S</th>\n",
       "      <th>Male_FS_S</th>\n",
       "      <th>BRFSS</th>\n",
       "      <th>GALLUP</th>\n",
       "      <th>GSS</th>\n",
       "      <th>PEW</th>\n",
       "      <th>HuntLic</th>\n",
       "      <th>GunsAmmo</th>\n",
       "      <th>BackChk</th>\n",
       "      <th>PewQChng</th>\n",
       "      <th>BS1</th>\n",
       "      <th>BS2</th>\n",
       "      <th>BS3</th>\n",
       "    </tr>\n",
       "  </thead>\n",
       "  <tbody>\n",
       "    <tr>\n",
       "      <th>count</th>\n",
       "      <td>1850.000000</td>\n",
       "      <td>1850.000000</td>\n",
       "      <td>1850.000000</td>\n",
       "      <td>1850.000000</td>\n",
       "      <td>1850.000000</td>\n",
       "      <td>1850.000000</td>\n",
       "      <td>1850.000000</td>\n",
       "      <td>1850.000000</td>\n",
       "      <td>1850.000000</td>\n",
       "      <td>1850.000000</td>\n",
       "      <td>1850.000000</td>\n",
       "      <td>1850.000000</td>\n",
       "      <td>1850.000000</td>\n",
       "      <td>1.850000e+03</td>\n",
       "      <td>1850.000000</td>\n",
       "      <td>1850.000000</td>\n",
       "      <td>1850.000000</td>\n",
       "      <td>1850.000000</td>\n",
       "      <td>1850.000000</td>\n",
       "    </tr>\n",
       "    <tr>\n",
       "      <th>mean</th>\n",
       "      <td>29.320000</td>\n",
       "      <td>1998.000000</td>\n",
       "      <td>0.441002</td>\n",
       "      <td>0.034279</td>\n",
       "      <td>0.175135</td>\n",
       "      <td>0.221622</td>\n",
       "      <td>-0.051958</td>\n",
       "      <td>0.616725</td>\n",
       "      <td>-8.248315</td>\n",
       "      <td>-5.734210</td>\n",
       "      <td>-4.754127</td>\n",
       "      <td>-6.024545</td>\n",
       "      <td>0.371159</td>\n",
       "      <td>-6.486542e-12</td>\n",
       "      <td>-4.621622</td>\n",
       "      <td>0.108108</td>\n",
       "      <td>9.756757</td>\n",
       "      <td>6.000000</td>\n",
       "      <td>2.243243</td>\n",
       "    </tr>\n",
       "    <tr>\n",
       "      <th>std</th>\n",
       "      <td>15.627847</td>\n",
       "      <td>10.679965</td>\n",
       "      <td>0.144662</td>\n",
       "      <td>0.007292</td>\n",
       "      <td>0.380185</td>\n",
       "      <td>0.415450</td>\n",
       "      <td>1.958854</td>\n",
       "      <td>0.129041</td>\n",
       "      <td>2.550064</td>\n",
       "      <td>4.514067</td>\n",
       "      <td>4.683266</td>\n",
       "      <td>4.388225</td>\n",
       "      <td>0.280793</td>\n",
       "      <td>9.902172e-01</td>\n",
       "      <td>4.552270</td>\n",
       "      <td>0.310601</td>\n",
       "      <td>3.581862</td>\n",
       "      <td>5.061188</td>\n",
       "      <td>3.581862</td>\n",
       "    </tr>\n",
       "    <tr>\n",
       "      <th>min</th>\n",
       "      <td>1.000000</td>\n",
       "      <td>1980.000000</td>\n",
       "      <td>0.034000</td>\n",
       "      <td>0.018000</td>\n",
       "      <td>0.000000</td>\n",
       "      <td>0.000000</td>\n",
       "      <td>-9.000000</td>\n",
       "      <td>0.144928</td>\n",
       "      <td>-9.000000</td>\n",
       "      <td>-9.000000</td>\n",
       "      <td>-9.000000</td>\n",
       "      <td>-9.000000</td>\n",
       "      <td>-9.000000</td>\n",
       "      <td>-3.466482e+00</td>\n",
       "      <td>-9.000000</td>\n",
       "      <td>0.000000</td>\n",
       "      <td>0.000000</td>\n",
       "      <td>0.000000</td>\n",
       "      <td>0.000000</td>\n",
       "    </tr>\n",
       "    <tr>\n",
       "      <th>25%</th>\n",
       "      <td>17.000000</td>\n",
       "      <td>1989.000000</td>\n",
       "      <td>0.366250</td>\n",
       "      <td>0.031000</td>\n",
       "      <td>0.000000</td>\n",
       "      <td>0.000000</td>\n",
       "      <td>0.235294</td>\n",
       "      <td>0.560104</td>\n",
       "      <td>-9.000000</td>\n",
       "      <td>-9.000000</td>\n",
       "      <td>-9.000000</td>\n",
       "      <td>-9.000000</td>\n",
       "      <td>0.246924</td>\n",
       "      <td>-6.498549e-01</td>\n",
       "      <td>-9.000000</td>\n",
       "      <td>0.000000</td>\n",
       "      <td>8.730000</td>\n",
       "      <td>0.270000</td>\n",
       "      <td>0.000000</td>\n",
       "    </tr>\n",
       "    <tr>\n",
       "      <th>50%</th>\n",
       "      <td>29.500000</td>\n",
       "      <td>1998.000000</td>\n",
       "      <td>0.462000</td>\n",
       "      <td>0.032000</td>\n",
       "      <td>0.000000</td>\n",
       "      <td>0.000000</td>\n",
       "      <td>0.352941</td>\n",
       "      <td>0.631413</td>\n",
       "      <td>-9.000000</td>\n",
       "      <td>-9.000000</td>\n",
       "      <td>-9.000000</td>\n",
       "      <td>-9.000000</td>\n",
       "      <td>0.341257</td>\n",
       "      <td>-3.303508e-02</td>\n",
       "      <td>-9.000000</td>\n",
       "      <td>0.000000</td>\n",
       "      <td>12.000000</td>\n",
       "      <td>6.000000</td>\n",
       "      <td>0.000000</td>\n",
       "    </tr>\n",
       "    <tr>\n",
       "      <th>75%</th>\n",
       "      <td>42.000000</td>\n",
       "      <td>2007.000000</td>\n",
       "      <td>0.547000</td>\n",
       "      <td>0.038000</td>\n",
       "      <td>0.000000</td>\n",
       "      <td>0.000000</td>\n",
       "      <td>0.487420</td>\n",
       "      <td>0.705409</td>\n",
       "      <td>-9.000000</td>\n",
       "      <td>0.433781</td>\n",
       "      <td>0.402183</td>\n",
       "      <td>0.346282</td>\n",
       "      <td>0.462227</td>\n",
       "      <td>4.225277e-01</td>\n",
       "      <td>-0.134125</td>\n",
       "      <td>0.000000</td>\n",
       "      <td>12.000000</td>\n",
       "      <td>11.730000</td>\n",
       "      <td>3.270000</td>\n",
       "    </tr>\n",
       "    <tr>\n",
       "      <th>max</th>\n",
       "      <td>56.000000</td>\n",
       "      <td>2016.000000</td>\n",
       "      <td>0.800000</td>\n",
       "      <td>0.047000</td>\n",
       "      <td>1.000000</td>\n",
       "      <td>1.000000</td>\n",
       "      <td>0.923077</td>\n",
       "      <td>0.873016</td>\n",
       "      <td>0.635250</td>\n",
       "      <td>0.795623</td>\n",
       "      <td>0.729886</td>\n",
       "      <td>0.734846</td>\n",
       "      <td>1.138084</td>\n",
       "      <td>3.934618e+00</td>\n",
       "      <td>2.822473</td>\n",
       "      <td>1.000000</td>\n",
       "      <td>12.000000</td>\n",
       "      <td>12.000000</td>\n",
       "      <td>12.000000</td>\n",
       "    </tr>\n",
       "  </tbody>\n",
       "</table>\n",
       "</div>"
      ],
      "text/plain": [
       "               FIP         Year          HFR       HFR_se     universl  \\\n",
       "count  1850.000000  1850.000000  1850.000000  1850.000000  1850.000000   \n",
       "mean     29.320000  1998.000000     0.441002     0.034279     0.175135   \n",
       "std      15.627847    10.679965     0.144662     0.007292     0.380185   \n",
       "min       1.000000  1980.000000     0.034000     0.018000     0.000000   \n",
       "25%      17.000000  1989.000000     0.366250     0.031000     0.000000   \n",
       "50%      29.500000  1998.000000     0.462000     0.032000     0.000000   \n",
       "75%      42.000000  2007.000000     0.547000     0.038000     0.000000   \n",
       "max      56.000000  2016.000000     0.800000     0.047000     1.000000   \n",
       "\n",
       "            permit     Fem_FS_S    Male_FS_S        BRFSS       GALLUP  \\\n",
       "count  1850.000000  1850.000000  1850.000000  1850.000000  1850.000000   \n",
       "mean      0.221622    -0.051958     0.616725    -8.248315    -5.734210   \n",
       "std       0.415450     1.958854     0.129041     2.550064     4.514067   \n",
       "min       0.000000    -9.000000     0.144928    -9.000000    -9.000000   \n",
       "25%       0.000000     0.235294     0.560104    -9.000000    -9.000000   \n",
       "50%       0.000000     0.352941     0.631413    -9.000000    -9.000000   \n",
       "75%       0.000000     0.487420     0.705409    -9.000000     0.433781   \n",
       "max       1.000000     0.923077     0.873016     0.635250     0.795623   \n",
       "\n",
       "               GSS          PEW      HuntLic      GunsAmmo      BackChk  \\\n",
       "count  1850.000000  1850.000000  1850.000000  1.850000e+03  1850.000000   \n",
       "mean     -4.754127    -6.024545     0.371159 -6.486542e-12    -4.621622   \n",
       "std       4.683266     4.388225     0.280793  9.902172e-01     4.552270   \n",
       "min      -9.000000    -9.000000    -9.000000 -3.466482e+00    -9.000000   \n",
       "25%      -9.000000    -9.000000     0.246924 -6.498549e-01    -9.000000   \n",
       "50%      -9.000000    -9.000000     0.341257 -3.303508e-02    -9.000000   \n",
       "75%       0.402183     0.346282     0.462227  4.225277e-01    -0.134125   \n",
       "max       0.729886     0.734846     1.138084  3.934618e+00     2.822473   \n",
       "\n",
       "          PewQChng          BS1          BS2          BS3  \n",
       "count  1850.000000  1850.000000  1850.000000  1850.000000  \n",
       "mean      0.108108     9.756757     6.000000     2.243243  \n",
       "std       0.310601     3.581862     5.061188     3.581862  \n",
       "min       0.000000     0.000000     0.000000     0.000000  \n",
       "25%       0.000000     8.730000     0.270000     0.000000  \n",
       "50%       0.000000    12.000000     6.000000     0.000000  \n",
       "75%       0.000000    12.000000    11.730000     3.270000  \n",
       "max       1.000000    12.000000    12.000000    12.000000  "
      ]
     },
     "execution_count": 4,
     "metadata": {},
     "output_type": "execute_result"
    }
   ],
   "source": [
    "data.describe()"
   ]
  },
  {
   "cell_type": "code",
   "execution_count": 5,
   "id": "9aa10e63",
   "metadata": {},
   "outputs": [],
   "source": [
    "data = data[['Year','Fem_FS_S','Male_FS_S','GunsAmmo','BackChk']]"
   ]
  },
  {
   "cell_type": "code",
   "execution_count": 6,
   "id": "75cbda5e",
   "metadata": {},
   "outputs": [
    {
     "data": {
      "text/html": [
       "<div>\n",
       "<style scoped>\n",
       "    .dataframe tbody tr th:only-of-type {\n",
       "        vertical-align: middle;\n",
       "    }\n",
       "\n",
       "    .dataframe tbody tr th {\n",
       "        vertical-align: top;\n",
       "    }\n",
       "\n",
       "    .dataframe thead th {\n",
       "        text-align: right;\n",
       "    }\n",
       "</style>\n",
       "<table border=\"1\" class=\"dataframe\">\n",
       "  <thead>\n",
       "    <tr style=\"text-align: right;\">\n",
       "      <th></th>\n",
       "      <th>Year</th>\n",
       "      <th>Fem_FS_S</th>\n",
       "      <th>Male_FS_S</th>\n",
       "      <th>GunsAmmo</th>\n",
       "      <th>BackChk</th>\n",
       "    </tr>\n",
       "  </thead>\n",
       "  <tbody>\n",
       "    <tr>\n",
       "      <th>0</th>\n",
       "      <td>1980</td>\n",
       "      <td>0.824324</td>\n",
       "      <td>0.833795</td>\n",
       "      <td>-0.509164</td>\n",
       "      <td>-9.000000</td>\n",
       "    </tr>\n",
       "    <tr>\n",
       "      <th>1</th>\n",
       "      <td>1981</td>\n",
       "      <td>0.692308</td>\n",
       "      <td>0.831126</td>\n",
       "      <td>-0.618954</td>\n",
       "      <td>-9.000000</td>\n",
       "    </tr>\n",
       "    <tr>\n",
       "      <th>2</th>\n",
       "      <td>1982</td>\n",
       "      <td>0.771739</td>\n",
       "      <td>0.821429</td>\n",
       "      <td>-0.526692</td>\n",
       "      <td>-9.000000</td>\n",
       "    </tr>\n",
       "    <tr>\n",
       "      <th>3</th>\n",
       "      <td>1983</td>\n",
       "      <td>0.688172</td>\n",
       "      <td>0.819277</td>\n",
       "      <td>-0.713227</td>\n",
       "      <td>-9.000000</td>\n",
       "    </tr>\n",
       "    <tr>\n",
       "      <th>4</th>\n",
       "      <td>1984</td>\n",
       "      <td>0.710000</td>\n",
       "      <td>0.775956</td>\n",
       "      <td>-0.733305</td>\n",
       "      <td>-9.000000</td>\n",
       "    </tr>\n",
       "    <tr>\n",
       "      <th>...</th>\n",
       "      <td>...</td>\n",
       "      <td>...</td>\n",
       "      <td>...</td>\n",
       "      <td>...</td>\n",
       "      <td>...</td>\n",
       "    </tr>\n",
       "    <tr>\n",
       "      <th>1845</th>\n",
       "      <td>2012</td>\n",
       "      <td>0.375000</td>\n",
       "      <td>0.647482</td>\n",
       "      <td>2.973924</td>\n",
       "      <td>1.562481</td>\n",
       "    </tr>\n",
       "    <tr>\n",
       "      <th>1846</th>\n",
       "      <td>2013</td>\n",
       "      <td>0.529412</td>\n",
       "      <td>0.714286</td>\n",
       "      <td>3.066252</td>\n",
       "      <td>1.638737</td>\n",
       "    </tr>\n",
       "    <tr>\n",
       "      <th>1847</th>\n",
       "      <td>2014</td>\n",
       "      <td>0.583333</td>\n",
       "      <td>0.666667</td>\n",
       "      <td>3.092854</td>\n",
       "      <td>1.603822</td>\n",
       "    </tr>\n",
       "    <tr>\n",
       "      <th>1848</th>\n",
       "      <td>2015</td>\n",
       "      <td>0.393939</td>\n",
       "      <td>0.661290</td>\n",
       "      <td>2.910414</td>\n",
       "      <td>1.348323</td>\n",
       "    </tr>\n",
       "    <tr>\n",
       "      <th>1849</th>\n",
       "      <td>2016</td>\n",
       "      <td>0.375000</td>\n",
       "      <td>0.669643</td>\n",
       "      <td>2.899840</td>\n",
       "      <td>1.265807</td>\n",
       "    </tr>\n",
       "  </tbody>\n",
       "</table>\n",
       "<p>1850 rows × 5 columns</p>\n",
       "</div>"
      ],
      "text/plain": [
       "      Year  Fem_FS_S  Male_FS_S  GunsAmmo   BackChk\n",
       "0     1980  0.824324   0.833795 -0.509164 -9.000000\n",
       "1     1981  0.692308   0.831126 -0.618954 -9.000000\n",
       "2     1982  0.771739   0.821429 -0.526692 -9.000000\n",
       "3     1983  0.688172   0.819277 -0.713227 -9.000000\n",
       "4     1984  0.710000   0.775956 -0.733305 -9.000000\n",
       "...    ...       ...        ...       ...       ...\n",
       "1845  2012  0.375000   0.647482  2.973924  1.562481\n",
       "1846  2013  0.529412   0.714286  3.066252  1.638737\n",
       "1847  2014  0.583333   0.666667  3.092854  1.603822\n",
       "1848  2015  0.393939   0.661290  2.910414  1.348323\n",
       "1849  2016  0.375000   0.669643  2.899840  1.265807\n",
       "\n",
       "[1850 rows x 5 columns]"
      ]
     },
     "execution_count": 6,
     "metadata": {},
     "output_type": "execute_result"
    }
   ],
   "source": [
    "data"
   ]
  },
  {
   "cell_type": "code",
   "execution_count": 7,
   "id": "ed7aab88",
   "metadata": {},
   "outputs": [],
   "source": [
    "def displots(data):\n",
    "    import seaborn as sns\n",
    "    import matplotlib.pyplot as plt\n",
    "    numcol = list(data.describe().columns)\n",
    "    for x in numcol:\n",
    "        sns.displot(data, x=x)"
   ]
  },
  {
   "cell_type": "code",
   "execution_count": 8,
   "id": "833af42c",
   "metadata": {},
   "outputs": [],
   "source": [
    "def boxplots(data):\n",
    "    import seaborn as sns\n",
    "    import matplotlib.pyplot as plt\n",
    "    numcol = list(data.describe().columns)\n",
    "    for x in numcol:\n",
    "        sns.boxplot(data = data, y=x)\n",
    "        plt.title(x)\n",
    "        plt.show()"
   ]
  },
  {
   "cell_type": "code",
   "execution_count": 9,
   "id": "e4fa2d32",
   "metadata": {},
   "outputs": [
    {
     "data": {
      "image/png": "[encoded data removed]",
      "text/plain": [
       "<Figure size 360x360 with 1 Axes>"
      ]
     },
     "metadata": {
      "needs_background": "light"
     },
     "output_type": "display_data"
    },
    {
     "data": {
      "image/png": "[encoded data removed]",
      "text/plain": [
       "<Figure size 360x360 with 1 Axes>"
      ]
     },
     "metadata": {
      "needs_background": "light"
     },
     "output_type": "display_data"
    },
    {
     "data": {
      "image/png": "[encoded data removed]",
      "text/plain": [
       "<Figure size 360x360 with 1 Axes>"
      ]
     },
     "metadata": {
      "needs_background": "light"
     },
     "output_type": "display_data"
    },
    {
     "data": {
      "image/png": "[encoded data removed]",
      "text/plain": [
       "<Figure size 360x360 with 1 Axes>"
      ]
     },
     "metadata": {
      "needs_background": "light"
     },
     "output_type": "display_data"
    },
    {
     "data": {
      "image/png": "[encoded data removed]",
      "text/plain": [
       "<Figure size 360x360 with 1 Axes>"
      ]
     },
     "metadata": {
      "needs_background": "light"
     },
     "output_type": "display_data"
    }
   ],
   "source": [
    "displots(data)"
   ]
  },
  {
   "cell_type": "code",
   "execution_count": 10,
   "id": "be8ee606",
   "metadata": {},
   "outputs": [
    {
     "data": {
      "image/png": "[encoded data removed]",
      "text/plain": [
       "<Figure size 432x288 with 1 Axes>"
      ]
     },
     "metadata": {
      "needs_background": "light"
     },
     "output_type": "display_data"
    },
    {
     "data": {
      "image/png": "[encoded data removed]",
      "text/plain": [
       "<Figure size 432x288 with 1 Axes>"
      ]
     },
     "metadata": {
      "needs_background": "light"
     },
     "output_type": "display_data"
    },
    {
     "data": {
      "image/png": "[encoded data removed]",
      "text/plain": [
       "<Figure size 432x288 with 1 Axes>"
      ]
     },
     "metadata": {
      "needs_background": "light"
     },
     "output_type": "display_data"
    },
    {
     "data": {
      "image/png": "[encoded data removed]",
      "text/plain": [
       "<Figure size 432x288 with 1 Axes>"
      ]
     },
     "metadata": {
      "needs_background": "light"
     },
     "output_type": "display_data"
    },
    {
     "data": {
      "image/png": "[encoded data removed]",
      "text/plain": [
       "<Figure size 432x288 with 1 Axes>"
      ]
     },
     "metadata": {
      "needs_background": "light"
     },
     "output_type": "display_data"
    }
   ],
   "source": [
    "boxplots(data)"
   ]
  },
  {
   "cell_type": "code",
   "execution_count": 11,
   "id": "f2a08b3e",
   "metadata": {},
   "outputs": [],
   "source": [
    "# a few outliers esecially for female suicide a very weird low value, theoretically though possible having very diffferent\n",
    "# values for the different states, to different wepons torwards wepons, laws etc, also in this case I do not need to do a model\n",
    "# etc. where these outliers could mess up my training set\n",
    "\n",
    "# when grouping by year I might just take median instead of mean so the results are not affecte as much from outliers"
   ]
  },
  {
   "cell_type": "code",
   "execution_count": 12,
   "id": "65f7a75a",
   "metadata": {},
   "outputs": [],
   "source": [
    "pivot = pd.pivot_table(data=data,index='Year',values=['Fem_FS_S','Male_FS_S','GunsAmmo','BackChk'], aggfunc='median')"
   ]
  },
  {
   "cell_type": "code",
   "execution_count": 13,
   "id": "6ac18511",
   "metadata": {},
   "outputs": [],
   "source": [
    "pivot.reset_index(inplace=True)"
   ]
  },
  {
   "cell_type": "code",
   "execution_count": 14,
   "id": "abb409cf",
   "metadata": {},
   "outputs": [],
   "source": [
    "# lets get rid of preictions we dont need, year wise\n",
    "finito = pivot[pivot['Year']>=2008]"
   ]
  },
  {
   "cell_type": "code",
   "execution_count": 15,
   "id": "9f11baea",
   "metadata": {},
   "outputs": [
    {
     "name": "stderr",
     "output_type": "stream",
     "text": [
      "No artists with labels found to put in legend.  Note that artists whose label start with an underscore are ignored when legend() is called with no argument.\n"
     ]
    },
    {
     "data": {
      "image/png": "[encoded data removed]",
      "text/plain": [
       "<Figure size 432x288 with 1 Axes>"
      ]
     },
     "metadata": {
      "needs_background": "light"
     },
     "output_type": "display_data"
    },
    {
     "name": "stderr",
     "output_type": "stream",
     "text": [
      "No artists with labels found to put in legend.  Note that artists whose label start with an underscore are ignored when legend() is called with no argument.\n"
     ]
    },
    {
     "data": {
      "image/png": "[encoded data removed]",
      "text/plain": [
       "<Figure size 432x288 with 1 Axes>"
      ]
     },
     "metadata": {
      "needs_background": "light"
     },
     "output_type": "display_data"
    },
    {
     "name": "stderr",
     "output_type": "stream",
     "text": [
      "No artists with labels found to put in legend.  Note that artists whose label start with an underscore are ignored when legend() is called with no argument.\n"
     ]
    },
    {
     "data": {
      "image/png": "[encoded data removed]",
      "text/plain": [
       "<Figure size 432x288 with 1 Axes>"
      ]
     },
     "metadata": {
      "needs_background": "light"
     },
     "output_type": "display_data"
    },
    {
     "name": "stderr",
     "output_type": "stream",
     "text": [
      "No artists with labels found to put in legend.  Note that artists whose label start with an underscore are ignored when legend() is called with no argument.\n"
     ]
    },
    {
     "data": {
      "image/png": "[encoded data removed]",
      "text/plain": [
       "<Figure size 432x288 with 1 Axes>"
      ]
     },
     "metadata": {
      "needs_background": "light"
     },
     "output_type": "display_data"
    }
   ],
   "source": [
    "for x in list(finito.describe().columns)[1:]:\n",
    "    sns.lineplot(data=finito,x='Year',y=x)\n",
    "    plt.legend()\n",
    "    plt.show()"
   ]
  },
  {
   "cell_type": "code",
   "execution_count": 16,
   "id": "1a62b797",
   "metadata": {},
   "outputs": [],
   "source": [
    "# male suicide level no real increase over time, gun ownership and female suicide strong increase, as well as background checks\n",
    "# "
   ]
  },
  {
   "cell_type": "code",
   "execution_count": 17,
   "id": "cdfdcbfd",
   "metadata": {},
   "outputs": [
    {
     "data": {
      "text/html": [
       "<div>\n",
       "<style scoped>\n",
       "    .dataframe tbody tr th:only-of-type {\n",
       "        vertical-align: middle;\n",
       "    }\n",
       "\n",
       "    .dataframe tbody tr th {\n",
       "        vertical-align: top;\n",
       "    }\n",
       "\n",
       "    .dataframe thead th {\n",
       "        text-align: right;\n",
       "    }\n",
       "</style>\n",
       "<table border=\"1\" class=\"dataframe\">\n",
       "  <thead>\n",
       "    <tr style=\"text-align: right;\">\n",
       "      <th></th>\n",
       "      <th>Calendar_Year</th>\n",
       "      <th>ATF_Form_1</th>\n",
       "      <th>ATF_Form_2</th>\n",
       "      <th>ATF_Form_3</th>\n",
       "      <th>ATF_Form_4</th>\n",
       "      <th>ATF_Form_5</th>\n",
       "      <th>ATF_Form_9</th>\n",
       "      <th>Total</th>\n",
       "    </tr>\n",
       "  </thead>\n",
       "  <tbody>\n",
       "    <tr>\n",
       "      <th>0</th>\n",
       "      <td>1990</td>\n",
       "      <td>399</td>\n",
       "      <td>66,084</td>\n",
       "      <td>23,149</td>\n",
       "      <td>7,024</td>\n",
       "      <td>54,959</td>\n",
       "      <td>21,725</td>\n",
       "      <td>173,340</td>\n",
       "    </tr>\n",
       "    <tr>\n",
       "      <th>1</th>\n",
       "      <td>1991</td>\n",
       "      <td>524</td>\n",
       "      <td>80,619</td>\n",
       "      <td>19,507</td>\n",
       "      <td>5,395</td>\n",
       "      <td>44,146</td>\n",
       "      <td>40,387</td>\n",
       "      <td>190,578</td>\n",
       "    </tr>\n",
       "    <tr>\n",
       "      <th>2</th>\n",
       "      <td>1992</td>\n",
       "      <td>351</td>\n",
       "      <td>107,313</td>\n",
       "      <td>26,352</td>\n",
       "      <td>6,541</td>\n",
       "      <td>45,390</td>\n",
       "      <td>22,120</td>\n",
       "      <td>208,067</td>\n",
       "    </tr>\n",
       "    <tr>\n",
       "      <th>3</th>\n",
       "      <td>1993</td>\n",
       "      <td>310</td>\n",
       "      <td>70,342</td>\n",
       "      <td>22,071</td>\n",
       "      <td>7,388</td>\n",
       "      <td>60,193</td>\n",
       "      <td>24,041</td>\n",
       "      <td>184,345</td>\n",
       "    </tr>\n",
       "    <tr>\n",
       "      <th>4</th>\n",
       "      <td>1994</td>\n",
       "      <td>1,076</td>\n",
       "      <td>97,665</td>\n",
       "      <td>27,950</td>\n",
       "      <td>7,600</td>\n",
       "      <td>67,580</td>\n",
       "      <td>34,242</td>\n",
       "      <td>236,113</td>\n",
       "    </tr>\n",
       "    <tr>\n",
       "      <th>5</th>\n",
       "      <td>1995</td>\n",
       "      <td>1,226</td>\n",
       "      <td>95,061</td>\n",
       "      <td>18,593</td>\n",
       "      <td>8,263</td>\n",
       "      <td>60,055</td>\n",
       "      <td>31,258</td>\n",
       "      <td>214,456</td>\n",
       "    </tr>\n",
       "    <tr>\n",
       "      <th>6</th>\n",
       "      <td>1996</td>\n",
       "      <td>1,174</td>\n",
       "      <td>103,511</td>\n",
       "      <td>16,931</td>\n",
       "      <td>6,418</td>\n",
       "      <td>72,395</td>\n",
       "      <td>40,439</td>\n",
       "      <td>240,868</td>\n",
       "    </tr>\n",
       "    <tr>\n",
       "      <th>7</th>\n",
       "      <td>1997</td>\n",
       "      <td>855</td>\n",
       "      <td>110,423</td>\n",
       "      <td>18,371</td>\n",
       "      <td>7,873</td>\n",
       "      <td>70,690</td>\n",
       "      <td>36,284</td>\n",
       "      <td>244,496</td>\n",
       "    </tr>\n",
       "    <tr>\n",
       "      <th>8</th>\n",
       "      <td>1998</td>\n",
       "      <td>1,093</td>\n",
       "      <td>141,101</td>\n",
       "      <td>27,921</td>\n",
       "      <td>10,181</td>\n",
       "      <td>93,135</td>\n",
       "      <td>40,221</td>\n",
       "      <td>313,652</td>\n",
       "    </tr>\n",
       "    <tr>\n",
       "      <th>9</th>\n",
       "      <td>1999</td>\n",
       "      <td>1,071</td>\n",
       "      <td>137,373</td>\n",
       "      <td>28,288</td>\n",
       "      <td>11,768</td>\n",
       "      <td>95,554</td>\n",
       "      <td>28,128</td>\n",
       "      <td>302,182</td>\n",
       "    </tr>\n",
       "    <tr>\n",
       "      <th>10</th>\n",
       "      <td>2000</td>\n",
       "      <td>1,334</td>\n",
       "      <td>141,763</td>\n",
       "      <td>23,335</td>\n",
       "      <td>11,246</td>\n",
       "      <td>96,234</td>\n",
       "      <td>28,672</td>\n",
       "      <td>302,584</td>\n",
       "    </tr>\n",
       "    <tr>\n",
       "      <th>11</th>\n",
       "      <td>2001</td>\n",
       "      <td>2,522</td>\n",
       "      <td>145,112</td>\n",
       "      <td>25,745</td>\n",
       "      <td>10,799</td>\n",
       "      <td>101,955</td>\n",
       "      <td>25,759</td>\n",
       "      <td>311,892</td>\n",
       "    </tr>\n",
       "    <tr>\n",
       "      <th>12</th>\n",
       "      <td>2002</td>\n",
       "      <td>1,173</td>\n",
       "      <td>162,321</td>\n",
       "      <td>25,042</td>\n",
       "      <td>10,686</td>\n",
       "      <td>92,986</td>\n",
       "      <td>47,597</td>\n",
       "      <td>339,805</td>\n",
       "    </tr>\n",
       "    <tr>\n",
       "      <th>13</th>\n",
       "      <td>2003</td>\n",
       "      <td>1,003</td>\n",
       "      <td>156,620</td>\n",
       "      <td>21,936</td>\n",
       "      <td>13,501</td>\n",
       "      <td>107,108</td>\n",
       "      <td>43,668</td>\n",
       "      <td>343,836</td>\n",
       "    </tr>\n",
       "    <tr>\n",
       "      <th>14</th>\n",
       "      <td>2004</td>\n",
       "      <td>980</td>\n",
       "      <td>83,483</td>\n",
       "      <td>20,026</td>\n",
       "      <td>14,635</td>\n",
       "      <td>54,675</td>\n",
       "      <td>19,425</td>\n",
       "      <td>193,224</td>\n",
       "    </tr>\n",
       "    <tr>\n",
       "      <th>15</th>\n",
       "      <td>2005</td>\n",
       "      <td>1,902</td>\n",
       "      <td>65,865</td>\n",
       "      <td>26,603</td>\n",
       "      <td>14,606</td>\n",
       "      <td>26,210</td>\n",
       "      <td>20,951</td>\n",
       "      <td>156,137</td>\n",
       "    </tr>\n",
       "    <tr>\n",
       "      <th>16</th>\n",
       "      <td>2006</td>\n",
       "      <td>2,610</td>\n",
       "      <td>188,134</td>\n",
       "      <td>51,290</td>\n",
       "      <td>20,534</td>\n",
       "      <td>100,458</td>\n",
       "      <td>42,175</td>\n",
       "      <td>405,201</td>\n",
       "    </tr>\n",
       "    <tr>\n",
       "      <th>17</th>\n",
       "      <td>2007</td>\n",
       "      <td>3,553</td>\n",
       "      <td>296,267</td>\n",
       "      <td>51,217</td>\n",
       "      <td>22,260</td>\n",
       "      <td>194,794</td>\n",
       "      <td>76,467</td>\n",
       "      <td>644,558</td>\n",
       "    </tr>\n",
       "    <tr>\n",
       "      <th>18</th>\n",
       "      <td>2008</td>\n",
       "      <td>4,583</td>\n",
       "      <td>424,743</td>\n",
       "      <td>71,404</td>\n",
       "      <td>26,917</td>\n",
       "      <td>183,271</td>\n",
       "      <td>206,411</td>\n",
       "      <td>917,329</td>\n",
       "    </tr>\n",
       "    <tr>\n",
       "      <th>19</th>\n",
       "      <td>2009</td>\n",
       "      <td>5,345</td>\n",
       "      <td>371,920</td>\n",
       "      <td>56,947</td>\n",
       "      <td>31,551</td>\n",
       "      <td>201,267</td>\n",
       "      <td>163,951</td>\n",
       "      <td>830,981</td>\n",
       "    </tr>\n",
       "    <tr>\n",
       "      <th>20</th>\n",
       "      <td>2010</td>\n",
       "      <td>5,169</td>\n",
       "      <td>296,375</td>\n",
       "      <td>58,875</td>\n",
       "      <td>33,059</td>\n",
       "      <td>189,449</td>\n",
       "      <td>136,335</td>\n",
       "      <td>719,262</td>\n",
       "    </tr>\n",
       "    <tr>\n",
       "      <th>21</th>\n",
       "      <td>2011</td>\n",
       "      <td>5,477</td>\n",
       "      <td>530,953</td>\n",
       "      <td>107,066</td>\n",
       "      <td>33,816</td>\n",
       "      <td>147,341</td>\n",
       "      <td>311,214</td>\n",
       "      <td>1,135,867</td>\n",
       "    </tr>\n",
       "    <tr>\n",
       "      <th>22</th>\n",
       "      <td>2012</td>\n",
       "      <td>7,886</td>\n",
       "      <td>484,928</td>\n",
       "      <td>149,762</td>\n",
       "      <td>52,490</td>\n",
       "      <td>170,561</td>\n",
       "      <td>219,700</td>\n",
       "      <td>1,085,327</td>\n",
       "    </tr>\n",
       "    <tr>\n",
       "      <th>23</th>\n",
       "      <td>2013</td>\n",
       "      <td>9,347</td>\n",
       "      <td>477,567</td>\n",
       "      <td>206,389</td>\n",
       "      <td>57,294</td>\n",
       "      <td>110,637</td>\n",
       "      <td>224,515</td>\n",
       "      <td>1,085,749</td>\n",
       "    </tr>\n",
       "    <tr>\n",
       "      <th>24</th>\n",
       "      <td>2014</td>\n",
       "      <td>22,380</td>\n",
       "      <td>591,388</td>\n",
       "      <td>262,342</td>\n",
       "      <td>107,921</td>\n",
       "      <td>138,204</td>\n",
       "      <td>248,109</td>\n",
       "      <td>1,370,344</td>\n",
       "    </tr>\n",
       "  </tbody>\n",
       "</table>\n",
       "</div>"
      ],
      "text/plain": [
       "    Calendar_Year ATF_Form_1 ATF_Form_2 ATF_Form_3 ATF_Form_4 ATF_Form_5  \\\n",
       "0            1990        399     66,084     23,149      7,024     54,959   \n",
       "1            1991        524     80,619     19,507      5,395     44,146   \n",
       "2            1992        351    107,313     26,352      6,541     45,390   \n",
       "3            1993        310     70,342     22,071      7,388     60,193   \n",
       "4            1994      1,076     97,665     27,950      7,600     67,580   \n",
       "5            1995      1,226     95,061     18,593      8,263     60,055   \n",
       "6            1996      1,174    103,511     16,931      6,418     72,395   \n",
       "7            1997        855    110,423     18,371      7,873     70,690   \n",
       "8            1998      1,093    141,101     27,921     10,181     93,135   \n",
       "9            1999      1,071    137,373     28,288     11,768     95,554   \n",
       "10           2000      1,334    141,763     23,335     11,246     96,234   \n",
       "11           2001      2,522    145,112     25,745     10,799    101,955   \n",
       "12           2002      1,173    162,321     25,042     10,686     92,986   \n",
       "13           2003      1,003    156,620     21,936     13,501    107,108   \n",
       "14           2004        980     83,483     20,026     14,635     54,675   \n",
       "15           2005      1,902     65,865     26,603     14,606     26,210   \n",
       "16           2006      2,610    188,134     51,290     20,534    100,458   \n",
       "17           2007      3,553    296,267     51,217     22,260    194,794   \n",
       "18           2008      4,583    424,743     71,404     26,917    183,271   \n",
       "19           2009      5,345    371,920     56,947     31,551    201,267   \n",
       "20           2010      5,169    296,375     58,875     33,059    189,449   \n",
       "21           2011      5,477    530,953    107,066     33,816    147,341   \n",
       "22           2012      7,886    484,928    149,762     52,490    170,561   \n",
       "23           2013      9,347    477,567    206,389     57,294    110,637   \n",
       "24           2014     22,380    591,388    262,342    107,921    138,204   \n",
       "\n",
       "   ATF_Form_9      Total  \n",
       "0      21,725    173,340  \n",
       "1      40,387    190,578  \n",
       "2      22,120    208,067  \n",
       "3      24,041    184,345  \n",
       "4      34,242    236,113  \n",
       "5      31,258    214,456  \n",
       "6      40,439    240,868  \n",
       "7      36,284    244,496  \n",
       "8      40,221    313,652  \n",
       "9      28,128    302,182  \n",
       "10     28,672    302,584  \n",
       "11     25,759    311,892  \n",
       "12     47,597    339,805  \n",
       "13     43,668    343,836  \n",
       "14     19,425    193,224  \n",
       "15     20,951    156,137  \n",
       "16     42,175    405,201  \n",
       "17     76,467    644,558  \n",
       "18    206,411    917,329  \n",
       "19    163,951    830,981  \n",
       "20    136,335    719,262  \n",
       "21    311,214  1,135,867  \n",
       "22    219,700  1,085,327  \n",
       "23    224,515  1,085,749  \n",
       "24    248,109  1,370,344  "
      ]
     },
     "execution_count": 17,
     "metadata": {},
     "output_type": "execute_result"
    }
   ],
   "source": [
    "# second gun ownership dataset, total amount of firearms processed by the ATF\n",
    "data2 = pd.read_csv(r\"C:\\Users\\leube\\Downloads\\National_Firearms_Act_Firearms_Processed_by_Form_Type.csv\")\n",
    "data2"
   ]
  },
  {
   "cell_type": "code",
   "execution_count": 18,
   "id": "565402f5",
   "metadata": {},
   "outputs": [
    {
     "data": {
      "text/html": [
       "<div>\n",
       "<style scoped>\n",
       "    .dataframe tbody tr th:only-of-type {\n",
       "        vertical-align: middle;\n",
       "    }\n",
       "\n",
       "    .dataframe tbody tr th {\n",
       "        vertical-align: top;\n",
       "    }\n",
       "\n",
       "    .dataframe thead th {\n",
       "        text-align: right;\n",
       "    }\n",
       "</style>\n",
       "<table border=\"1\" class=\"dataframe\">\n",
       "  <thead>\n",
       "    <tr style=\"text-align: right;\">\n",
       "      <th></th>\n",
       "      <th>Calendar_Year</th>\n",
       "      <th>ATF_Form_2</th>\n",
       "    </tr>\n",
       "  </thead>\n",
       "  <tbody>\n",
       "    <tr>\n",
       "      <th>0</th>\n",
       "      <td>1990</td>\n",
       "      <td>66,084</td>\n",
       "    </tr>\n",
       "    <tr>\n",
       "      <th>1</th>\n",
       "      <td>1991</td>\n",
       "      <td>80,619</td>\n",
       "    </tr>\n",
       "    <tr>\n",
       "      <th>2</th>\n",
       "      <td>1992</td>\n",
       "      <td>107,313</td>\n",
       "    </tr>\n",
       "    <tr>\n",
       "      <th>3</th>\n",
       "      <td>1993</td>\n",
       "      <td>70,342</td>\n",
       "    </tr>\n",
       "    <tr>\n",
       "      <th>4</th>\n",
       "      <td>1994</td>\n",
       "      <td>97,665</td>\n",
       "    </tr>\n",
       "    <tr>\n",
       "      <th>5</th>\n",
       "      <td>1995</td>\n",
       "      <td>95,061</td>\n",
       "    </tr>\n",
       "    <tr>\n",
       "      <th>6</th>\n",
       "      <td>1996</td>\n",
       "      <td>103,511</td>\n",
       "    </tr>\n",
       "    <tr>\n",
       "      <th>7</th>\n",
       "      <td>1997</td>\n",
       "      <td>110,423</td>\n",
       "    </tr>\n",
       "    <tr>\n",
       "      <th>8</th>\n",
       "      <td>1998</td>\n",
       "      <td>141,101</td>\n",
       "    </tr>\n",
       "    <tr>\n",
       "      <th>9</th>\n",
       "      <td>1999</td>\n",
       "      <td>137,373</td>\n",
       "    </tr>\n",
       "    <tr>\n",
       "      <th>10</th>\n",
       "      <td>2000</td>\n",
       "      <td>141,763</td>\n",
       "    </tr>\n",
       "    <tr>\n",
       "      <th>11</th>\n",
       "      <td>2001</td>\n",
       "      <td>145,112</td>\n",
       "    </tr>\n",
       "    <tr>\n",
       "      <th>12</th>\n",
       "      <td>2002</td>\n",
       "      <td>162,321</td>\n",
       "    </tr>\n",
       "    <tr>\n",
       "      <th>13</th>\n",
       "      <td>2003</td>\n",
       "      <td>156,620</td>\n",
       "    </tr>\n",
       "    <tr>\n",
       "      <th>14</th>\n",
       "      <td>2004</td>\n",
       "      <td>83,483</td>\n",
       "    </tr>\n",
       "    <tr>\n",
       "      <th>15</th>\n",
       "      <td>2005</td>\n",
       "      <td>65,865</td>\n",
       "    </tr>\n",
       "    <tr>\n",
       "      <th>16</th>\n",
       "      <td>2006</td>\n",
       "      <td>188,134</td>\n",
       "    </tr>\n",
       "    <tr>\n",
       "      <th>17</th>\n",
       "      <td>2007</td>\n",
       "      <td>296,267</td>\n",
       "    </tr>\n",
       "    <tr>\n",
       "      <th>18</th>\n",
       "      <td>2008</td>\n",
       "      <td>424,743</td>\n",
       "    </tr>\n",
       "    <tr>\n",
       "      <th>19</th>\n",
       "      <td>2009</td>\n",
       "      <td>371,920</td>\n",
       "    </tr>\n",
       "    <tr>\n",
       "      <th>20</th>\n",
       "      <td>2010</td>\n",
       "      <td>296,375</td>\n",
       "    </tr>\n",
       "    <tr>\n",
       "      <th>21</th>\n",
       "      <td>2011</td>\n",
       "      <td>530,953</td>\n",
       "    </tr>\n",
       "    <tr>\n",
       "      <th>22</th>\n",
       "      <td>2012</td>\n",
       "      <td>484,928</td>\n",
       "    </tr>\n",
       "    <tr>\n",
       "      <th>23</th>\n",
       "      <td>2013</td>\n",
       "      <td>477,567</td>\n",
       "    </tr>\n",
       "    <tr>\n",
       "      <th>24</th>\n",
       "      <td>2014</td>\n",
       "      <td>591,388</td>\n",
       "    </tr>\n",
       "  </tbody>\n",
       "</table>\n",
       "</div>"
      ],
      "text/plain": [
       "    Calendar_Year ATF_Form_2\n",
       "0            1990     66,084\n",
       "1            1991     80,619\n",
       "2            1992    107,313\n",
       "3            1993     70,342\n",
       "4            1994     97,665\n",
       "5            1995     95,061\n",
       "6            1996    103,511\n",
       "7            1997    110,423\n",
       "8            1998    141,101\n",
       "9            1999    137,373\n",
       "10           2000    141,763\n",
       "11           2001    145,112\n",
       "12           2002    162,321\n",
       "13           2003    156,620\n",
       "14           2004     83,483\n",
       "15           2005     65,865\n",
       "16           2006    188,134\n",
       "17           2007    296,267\n",
       "18           2008    424,743\n",
       "19           2009    371,920\n",
       "20           2010    296,375\n",
       "21           2011    530,953\n",
       "22           2012    484,928\n",
       "23           2013    477,567\n",
       "24           2014    591,388"
      ]
     },
     "execution_count": 18,
     "metadata": {},
     "output_type": "execute_result"
    }
   ],
   "source": [
    "# all we need is year and total number of registered and processed weapons\n",
    "dataweap = data2[['Calendar_Year','ATF_Form_2']]\n",
    "dataweap"
   ]
  },
  {
   "cell_type": "code",
   "execution_count": 19,
   "id": "e94cfa35",
   "metadata": {},
   "outputs": [
    {
     "name": "stdout",
     "output_type": "stream",
     "text": [
      "<class 'pandas.core.frame.DataFrame'>\n",
      "RangeIndex: 25 entries, 0 to 24\n",
      "Data columns (total 2 columns):\n",
      " #   Column         Non-Null Count  Dtype \n",
      "---  ------         --------------  ----- \n",
      " 0   Calendar_Year  25 non-null     int64 \n",
      " 1   ATF_Form_2     25 non-null     object\n",
      "dtypes: int64(1), object(1)\n",
      "memory usage: 528.0+ bytes\n"
     ]
    }
   ],
   "source": [
    "dataweap.info()"
   ]
  },
  {
   "cell_type": "code",
   "execution_count": 20,
   "id": "e7a5b460",
   "metadata": {},
   "outputs": [
    {
     "ename": "ValueError",
     "evalue": "Unable to parse string \"66,084\" at position 0",
     "output_type": "error",
     "traceback": [
      "\u001b[1;31m---------------------------------------------------------------------------\u001b[0m",
      "\u001b[1;31mValueError\u001b[0m                                Traceback (most recent call last)",
      "File \u001b[1;32m~\\anaconda4\\lib\\site-packages\\pandas\\_libs\\lib.pyx:2315\u001b[0m, in \u001b[0;36mpandas._libs.lib.maybe_convert_numeric\u001b[1;34m()\u001b[0m\n",
      "\u001b[1;31mValueError\u001b[0m: Unable to parse string \"66,084\"",
      "\nDuring handling of the above exception, another exception occurred:\n",
      "\u001b[1;31mValueError\u001b[0m                                Traceback (most recent call last)",
      "Input \u001b[1;32mIn [20]\u001b[0m, in \u001b[0;36m<cell line: 1>\u001b[1;34m()\u001b[0m\n\u001b[1;32m----> 1\u001b[0m dataweap[\u001b[38;5;124m'\u001b[39m\u001b[38;5;124mATF_Form_2\u001b[39m\u001b[38;5;124m'\u001b[39m] \u001b[38;5;241m=\u001b[39m \u001b[43mdataweap\u001b[49m\u001b[43m[\u001b[49m\u001b[38;5;124;43m'\u001b[39;49m\u001b[38;5;124;43mATF_Form_2\u001b[39;49m\u001b[38;5;124;43m'\u001b[39;49m\u001b[43m]\u001b[49m\u001b[38;5;241;43m.\u001b[39;49m\u001b[43mapply\u001b[49m\u001b[43m(\u001b[49m\u001b[43mpd\u001b[49m\u001b[38;5;241;43m.\u001b[39;49m\u001b[43mto_numeric\u001b[49m\u001b[43m)\u001b[49m\n",
      "File \u001b[1;32m~\\anaconda4\\lib\\site-packages\\pandas\\core\\series.py:4433\u001b[0m, in \u001b[0;36mSeries.apply\u001b[1;34m(self, func, convert_dtype, args, **kwargs)\u001b[0m\n\u001b[0;32m   4323\u001b[0m \u001b[38;5;28;01mdef\u001b[39;00m \u001b[38;5;21mapply\u001b[39m(\n\u001b[0;32m   4324\u001b[0m     \u001b[38;5;28mself\u001b[39m,\n\u001b[0;32m   4325\u001b[0m     func: AggFuncType,\n\u001b[1;32m   (...)\u001b[0m\n\u001b[0;32m   4328\u001b[0m     \u001b[38;5;241m*\u001b[39m\u001b[38;5;241m*\u001b[39mkwargs,\n\u001b[0;32m   4329\u001b[0m ) \u001b[38;5;241m-\u001b[39m\u001b[38;5;241m>\u001b[39m DataFrame \u001b[38;5;241m|\u001b[39m Series:\n\u001b[0;32m   4330\u001b[0m     \u001b[38;5;124;03m\"\"\"\u001b[39;00m\n\u001b[0;32m   4331\u001b[0m \u001b[38;5;124;03m    Invoke function on values of Series.\u001b[39;00m\n\u001b[0;32m   4332\u001b[0m \n\u001b[1;32m   (...)\u001b[0m\n\u001b[0;32m   4431\u001b[0m \u001b[38;5;124;03m    dtype: float64\u001b[39;00m\n\u001b[0;32m   4432\u001b[0m \u001b[38;5;124;03m    \"\"\"\u001b[39;00m\n\u001b[1;32m-> 4433\u001b[0m     \u001b[38;5;28;01mreturn\u001b[39;00m \u001b[43mSeriesApply\u001b[49m\u001b[43m(\u001b[49m\u001b[38;5;28;43mself\u001b[39;49m\u001b[43m,\u001b[49m\u001b[43m \u001b[49m\u001b[43mfunc\u001b[49m\u001b[43m,\u001b[49m\u001b[43m \u001b[49m\u001b[43mconvert_dtype\u001b[49m\u001b[43m,\u001b[49m\u001b[43m \u001b[49m\u001b[43margs\u001b[49m\u001b[43m,\u001b[49m\u001b[43m \u001b[49m\u001b[43mkwargs\u001b[49m\u001b[43m)\u001b[49m\u001b[38;5;241;43m.\u001b[39;49m\u001b[43mapply\u001b[49m\u001b[43m(\u001b[49m\u001b[43m)\u001b[49m\n",
      "File \u001b[1;32m~\\anaconda4\\lib\\site-packages\\pandas\\core\\apply.py:1082\u001b[0m, in \u001b[0;36mSeriesApply.apply\u001b[1;34m(self)\u001b[0m\n\u001b[0;32m   1078\u001b[0m \u001b[38;5;28;01mif\u001b[39;00m \u001b[38;5;28misinstance\u001b[39m(\u001b[38;5;28mself\u001b[39m\u001b[38;5;241m.\u001b[39mf, \u001b[38;5;28mstr\u001b[39m):\n\u001b[0;32m   1079\u001b[0m     \u001b[38;5;66;03m# if we are a string, try to dispatch\u001b[39;00m\n\u001b[0;32m   1080\u001b[0m     \u001b[38;5;28;01mreturn\u001b[39;00m \u001b[38;5;28mself\u001b[39m\u001b[38;5;241m.\u001b[39mapply_str()\n\u001b[1;32m-> 1082\u001b[0m \u001b[38;5;28;01mreturn\u001b[39;00m \u001b[38;5;28;43mself\u001b[39;49m\u001b[38;5;241;43m.\u001b[39;49m\u001b[43mapply_standard\u001b[49m\u001b[43m(\u001b[49m\u001b[43m)\u001b[49m\n",
      "File \u001b[1;32m~\\anaconda4\\lib\\site-packages\\pandas\\core\\apply.py:1137\u001b[0m, in \u001b[0;36mSeriesApply.apply_standard\u001b[1;34m(self)\u001b[0m\n\u001b[0;32m   1131\u001b[0m         values \u001b[38;5;241m=\u001b[39m obj\u001b[38;5;241m.\u001b[39mastype(\u001b[38;5;28mobject\u001b[39m)\u001b[38;5;241m.\u001b[39m_values\n\u001b[0;32m   1132\u001b[0m         \u001b[38;5;66;03m# error: Argument 2 to \"map_infer\" has incompatible type\u001b[39;00m\n\u001b[0;32m   1133\u001b[0m         \u001b[38;5;66;03m# \"Union[Callable[..., Any], str, List[Union[Callable[..., Any], str]],\u001b[39;00m\n\u001b[0;32m   1134\u001b[0m         \u001b[38;5;66;03m# Dict[Hashable, Union[Union[Callable[..., Any], str],\u001b[39;00m\n\u001b[0;32m   1135\u001b[0m         \u001b[38;5;66;03m# List[Union[Callable[..., Any], str]]]]]\"; expected\u001b[39;00m\n\u001b[0;32m   1136\u001b[0m         \u001b[38;5;66;03m# \"Callable[[Any], Any]\"\u001b[39;00m\n\u001b[1;32m-> 1137\u001b[0m         mapped \u001b[38;5;241m=\u001b[39m \u001b[43mlib\u001b[49m\u001b[38;5;241;43m.\u001b[39;49m\u001b[43mmap_infer\u001b[49m\u001b[43m(\u001b[49m\n\u001b[0;32m   1138\u001b[0m \u001b[43m            \u001b[49m\u001b[43mvalues\u001b[49m\u001b[43m,\u001b[49m\n\u001b[0;32m   1139\u001b[0m \u001b[43m            \u001b[49m\u001b[43mf\u001b[49m\u001b[43m,\u001b[49m\u001b[43m  \u001b[49m\u001b[38;5;66;43;03m# type: ignore[arg-type]\u001b[39;49;00m\n\u001b[0;32m   1140\u001b[0m \u001b[43m            \u001b[49m\u001b[43mconvert\u001b[49m\u001b[38;5;241;43m=\u001b[39;49m\u001b[38;5;28;43mself\u001b[39;49m\u001b[38;5;241;43m.\u001b[39;49m\u001b[43mconvert_dtype\u001b[49m\u001b[43m,\u001b[49m\n\u001b[0;32m   1141\u001b[0m \u001b[43m        \u001b[49m\u001b[43m)\u001b[49m\n\u001b[0;32m   1143\u001b[0m \u001b[38;5;28;01mif\u001b[39;00m \u001b[38;5;28mlen\u001b[39m(mapped) \u001b[38;5;129;01mand\u001b[39;00m \u001b[38;5;28misinstance\u001b[39m(mapped[\u001b[38;5;241m0\u001b[39m], ABCSeries):\n\u001b[0;32m   1144\u001b[0m     \u001b[38;5;66;03m# GH#43986 Need to do list(mapped) in order to get treated as nested\u001b[39;00m\n\u001b[0;32m   1145\u001b[0m     \u001b[38;5;66;03m#  See also GH#25959 regarding EA support\u001b[39;00m\n\u001b[0;32m   1146\u001b[0m     \u001b[38;5;28;01mreturn\u001b[39;00m obj\u001b[38;5;241m.\u001b[39m_constructor_expanddim(\u001b[38;5;28mlist\u001b[39m(mapped), index\u001b[38;5;241m=\u001b[39mobj\u001b[38;5;241m.\u001b[39mindex)\n",
      "File \u001b[1;32m~\\anaconda4\\lib\\site-packages\\pandas\\_libs\\lib.pyx:2870\u001b[0m, in \u001b[0;36mpandas._libs.lib.map_infer\u001b[1;34m()\u001b[0m\n",
      "File \u001b[1;32m~\\anaconda4\\lib\\site-packages\\pandas\\core\\tools\\numeric.py:184\u001b[0m, in \u001b[0;36mto_numeric\u001b[1;34m(arg, errors, downcast)\u001b[0m\n\u001b[0;32m    182\u001b[0m coerce_numeric \u001b[38;5;241m=\u001b[39m errors \u001b[38;5;129;01mnot\u001b[39;00m \u001b[38;5;129;01min\u001b[39;00m (\u001b[38;5;124m\"\u001b[39m\u001b[38;5;124mignore\u001b[39m\u001b[38;5;124m\"\u001b[39m, \u001b[38;5;124m\"\u001b[39m\u001b[38;5;124mraise\u001b[39m\u001b[38;5;124m\"\u001b[39m)\n\u001b[0;32m    183\u001b[0m \u001b[38;5;28;01mtry\u001b[39;00m:\n\u001b[1;32m--> 184\u001b[0m     values, _ \u001b[38;5;241m=\u001b[39m \u001b[43mlib\u001b[49m\u001b[38;5;241;43m.\u001b[39;49m\u001b[43mmaybe_convert_numeric\u001b[49m\u001b[43m(\u001b[49m\n\u001b[0;32m    185\u001b[0m \u001b[43m        \u001b[49m\u001b[43mvalues\u001b[49m\u001b[43m,\u001b[49m\u001b[43m \u001b[49m\u001b[38;5;28;43mset\u001b[39;49m\u001b[43m(\u001b[49m\u001b[43m)\u001b[49m\u001b[43m,\u001b[49m\u001b[43m \u001b[49m\u001b[43mcoerce_numeric\u001b[49m\u001b[38;5;241;43m=\u001b[39;49m\u001b[43mcoerce_numeric\u001b[49m\n\u001b[0;32m    186\u001b[0m \u001b[43m    \u001b[49m\u001b[43m)\u001b[49m\n\u001b[0;32m    187\u001b[0m \u001b[38;5;28;01mexcept\u001b[39;00m (\u001b[38;5;167;01mValueError\u001b[39;00m, \u001b[38;5;167;01mTypeError\u001b[39;00m):\n\u001b[0;32m    188\u001b[0m     \u001b[38;5;28;01mif\u001b[39;00m errors \u001b[38;5;241m==\u001b[39m \u001b[38;5;124m\"\u001b[39m\u001b[38;5;124mraise\u001b[39m\u001b[38;5;124m\"\u001b[39m:\n",
      "File \u001b[1;32m~\\anaconda4\\lib\\site-packages\\pandas\\_libs\\lib.pyx:2357\u001b[0m, in \u001b[0;36mpandas._libs.lib.maybe_convert_numeric\u001b[1;34m()\u001b[0m\n",
      "\u001b[1;31mValueError\u001b[0m: Unable to parse string \"66,084\" at position 0"
     ]
    }
   ],
   "source": [
    "dataweap['ATF_Form_2'] = dataweap['ATF_Form_2'].apply(pd.to_numeric)\n",
    "\n",
    "# wrongnumber format in string here"
   ]
  },
  {
   "cell_type": "code",
   "execution_count": 21,
   "id": "4b0e5065",
   "metadata": {},
   "outputs": [],
   "source": [
    "newval = []\n",
    "for x in list(dataweap['ATF_Form_2'].values):\n",
    "    new = x.replace(',','')\n",
    "    newval.append(new)"
   ]
  },
  {
   "cell_type": "code",
   "execution_count": 22,
   "id": "2e7f06b0",
   "metadata": {},
   "outputs": [
    {
     "data": {
      "text/plain": [
       "['66084',\n",
       " '80619',\n",
       " '107313',\n",
       " '70342',\n",
       " '97665',\n",
       " '95061',\n",
       " '103511',\n",
       " '110423',\n",
       " '141101',\n",
       " '137373',\n",
       " '141763',\n",
       " '145112',\n",
       " '162321',\n",
       " '156620',\n",
       " '83483',\n",
       " '65865',\n",
       " '188134',\n",
       " '296267',\n",
       " '424743',\n",
       " '371920',\n",
       " '296375',\n",
       " '530953',\n",
       " '484928',\n",
       " '477567',\n",
       " '591388']"
      ]
     },
     "execution_count": 22,
     "metadata": {},
     "output_type": "execute_result"
    }
   ],
   "source": [
    "newval"
   ]
  },
  {
   "cell_type": "code",
   "execution_count": 24,
   "id": "7e0cf38f",
   "metadata": {},
   "outputs": [
    {
     "name": "stderr",
     "output_type": "stream",
     "text": [
      "C:\\Users\\leube\\AppData\\Local\\Temp\\ipykernel_21652\\1419645428.py:1: SettingWithCopyWarning: \n",
      "A value is trying to be set on a copy of a slice from a DataFrame.\n",
      "Try using .loc[row_indexer,col_indexer] = value instead\n",
      "\n",
      "See the caveats in the documentation: https://pandas.pydata.org/pandas-docs/stable/user_guide/indexing.html#returning-a-view-versus-a-copy\n",
      "  dataweap['ATF_Form_2'] = newval\n"
     ]
    }
   ],
   "source": [
    "dataweap['ATF_Form_2'] = newval\n",
    "#del dataweap['Total']"
   ]
  },
  {
   "cell_type": "code",
   "execution_count": 25,
   "id": "89b1533b",
   "metadata": {},
   "outputs": [
    {
     "name": "stderr",
     "output_type": "stream",
     "text": [
      "C:\\Users\\leube\\AppData\\Local\\Temp\\ipykernel_21652\\3064245724.py:1: SettingWithCopyWarning: \n",
      "A value is trying to be set on a copy of a slice from a DataFrame.\n",
      "Try using .loc[row_indexer,col_indexer] = value instead\n",
      "\n",
      "See the caveats in the documentation: https://pandas.pydata.org/pandas-docs/stable/user_guide/indexing.html#returning-a-view-versus-a-copy\n",
      "  dataweap['ATF_Form_2'] = dataweap['ATF_Form_2'].apply(pd.to_numeric)\n"
     ]
    }
   ],
   "source": [
    "dataweap['ATF_Form_2'] = dataweap['ATF_Form_2'].apply(pd.to_numeric) "
   ]
  },
  {
   "cell_type": "code",
   "execution_count": 26,
   "id": "cd5580b1",
   "metadata": {},
   "outputs": [],
   "source": [
    "dataweap = dataweap[dataweap['Calendar_Year']>=2002]"
   ]
  },
  {
   "cell_type": "code",
   "execution_count": 27,
   "id": "6530e1e0",
   "metadata": {},
   "outputs": [
    {
     "data": {
      "text/plain": [
       "<AxesSubplot:xlabel='Calendar_Year', ylabel='ATF_Form_2'>"
      ]
     },
     "execution_count": 27,
     "metadata": {},
     "output_type": "execute_result"
    },
    {
     "data": {
      "image/png": "[encoded data removed]",
      "text/plain": [
       "<Figure size 432x288 with 1 Axes>"
      ]
     },
     "metadata": {
      "needs_background": "light"
     },
     "output_type": "display_data"
    }
   ],
   "source": [
    "sns.lineplot(data=dataweap,x='Calendar_Year',y='ATF_Form_2')"
   ]
  },
  {
   "cell_type": "code",
   "execution_count": 28,
   "id": "b0d2db75",
   "metadata": {},
   "outputs": [],
   "source": [
    "# strong increase of total registered weapons by the ATF"
   ]
  },
  {
   "cell_type": "code",
   "execution_count": 29,
   "id": "16ec0cda",
   "metadata": {},
   "outputs": [
    {
     "data": {
      "image/png": "[encoded data removed]",
      "text/plain": [
       "<Figure size 432x288 with 4 Axes>"
      ]
     },
     "metadata": {
      "needs_background": "light"
     },
     "output_type": "display_data"
    }
   ],
   "source": [
    "# lets make forcast until year 2018\n",
    "\n",
    "from statsmodels.tsa.seasonal import seasonal_decompose\n",
    "decompose = seasonal_decompose(dataweap['ATF_Form_2'],model='additive', period=2)\n",
    "decompose.plot()\n",
    "plt.show()"
   ]
  },
  {
   "cell_type": "code",
   "execution_count": null,
   "id": "740f0497",
   "metadata": {},
   "outputs": [],
   "source": [
    "from statsmodels.tsa.stattools import acf, pacf\n",
    "from statsmodels.graphics.tsaplots import plot_acf, plot_pacf\n",
    "plot_acf(dataweap['ATF_Form_2'], lags=6)"
   ]
  },
  {
   "cell_type": "code",
   "execution_count": null,
   "id": "553e6b04",
   "metadata": {},
   "outputs": [],
   "source": [
    "# no auto correlation\n",
    "\n",
    "# stationary?\n",
    "from statsmodels.tsa.stattools import adfuller\n",
    "adft = adfuller(dataweap['ATF_Form_2'],autolag=\"AIC\")\n",
    "output_df = pd.DataFrame({\"Values\":[adft[0],adft[1],adft[2],adft[3], adft[4]['1%'], adft[4]['5%'], adft[4]['10%']]  , \"Metric\":[\"Test Statistics\",\"p-value\",\"No. of lags used\",\"Number of observations used\",\n",
    "                                                        \"critical value (1%)\", \"critical value (5%)\", \"critical value (10%)\"]})\n",
    "print(output_df)"
   ]
  },
  {
   "cell_type": "code",
   "execution_count": null,
   "id": "d73c294b",
   "metadata": {},
   "outputs": [],
   "source": [
    "# data not stationary due to high p value, so lets either make ot stationary first or use arima doing this step for us"
   ]
  },
  {
   "cell_type": "code",
   "execution_count": null,
   "id": "7de9b658",
   "metadata": {},
   "outputs": [],
   "source": [
    "len(dataweap)"
   ]
  },
  {
   "cell_type": "code",
   "execution_count": null,
   "id": "59fcb4f9",
   "metadata": {},
   "outputs": [],
   "source": [
    "train = dataweap['ATF_Form_2'][:11]\n",
    "test = dataweap['ATF_Form_2'][11:]"
   ]
  },
  {
   "cell_type": "code",
   "execution_count": null,
   "id": "e8524254",
   "metadata": {},
   "outputs": [],
   "source": [
    "from pmdarima.arima import auto_arima\n",
    "model = auto_arima(train, trace=True, error_action='ignore', suppress_warnings=True, seasonal=False,  m=12)\n",
    "model.fit(train)"
   ]
  },
  {
   "cell_type": "code",
   "execution_count": null,
   "id": "4711fa23",
   "metadata": {},
   "outputs": [],
   "source": [
    "test"
   ]
  },
  {
   "cell_type": "code",
   "execution_count": null,
   "id": "3f3a3f4e",
   "metadata": {},
   "outputs": [],
   "source": [
    "predtest = model.predict(n_periods=len(test))\n",
    "predtest = pd.DataFrame(predtest,index = test.index,columns=['Prediction'])"
   ]
  },
  {
   "cell_type": "code",
   "execution_count": null,
   "id": "38f48785",
   "metadata": {},
   "outputs": [],
   "source": [
    "test"
   ]
  },
  {
   "cell_type": "code",
   "execution_count": null,
   "id": "6a3cdc2a",
   "metadata": {},
   "outputs": [],
   "source": [
    "from sklearn.metrics import r2_score\n",
    "r2_score(predtest,test)\n",
    "\n",
    "# very bad results due to small amount of data, better resuls with linear regression??\n",
    "\n",
    "# first lets try building timeseries with all the data from previous years"
   ]
  },
  {
   "cell_type": "code",
   "execution_count": null,
   "id": "d66cdbf7",
   "metadata": {},
   "outputs": [],
   "source": [
    "dataweapall = data2[['Calendar_Year','ATF_Form_2']]"
   ]
  },
  {
   "cell_type": "code",
   "execution_count": null,
   "id": "402997ec",
   "metadata": {},
   "outputs": [],
   "source": [
    "dataweapall"
   ]
  },
  {
   "cell_type": "code",
   "execution_count": null,
   "id": "6ff1943f",
   "metadata": {},
   "outputs": [],
   "source": [
    "newval = []\n",
    "for x in list(dataweapall['Total'].values):\n",
    "    new = x.replace(',','')\n",
    "    newval.append(new)\n",
    "dataweapall['Total'] = newval\n",
    "dataweapall['Total'] = dataweapall['Total'].apply(pd.to_numeric) "
   ]
  },
  {
   "cell_type": "code",
   "execution_count": null,
   "id": "a4b676f7",
   "metadata": {},
   "outputs": [],
   "source": [
    "#autocorrelation?\n",
    "\n",
    "plot_acf(dataweapall['Total'], lags=6)"
   ]
  },
  {
   "cell_type": "markdown",
   "id": "a84cc819",
   "metadata": {},
   "source": [
    "utocorrelation with first 2 lags"
   ]
  },
  {
   "cell_type": "code",
   "execution_count": null,
   "id": "528a98d8",
   "metadata": {},
   "outputs": [],
   "source": [
    "# stationary ?\n",
    "adft = adfuller(dataweapall['Total'],autolag=\"AIC\")\n",
    "output_df = pd.DataFrame({\"Values\":[adft[0],adft[1],adft[2],adft[3], adft[4]['1%'], adft[4]['5%'], adft[4]['10%']]  , \"Metric\":[\"Test Statistics\",\"p-value\",\"No. of lags used\",\"Number of observations used\",\n",
    "                                                        \"critical value (1%)\", \"critical value (5%)\", \"critical value (10%)\"]})\n",
    "print(output_df)"
   ]
  },
  {
   "cell_type": "markdown",
   "id": "b5915944",
   "metadata": {},
   "source": [
    "not stationary, H0 excepted due to high p value"
   ]
  },
  {
   "cell_type": "code",
   "execution_count": null,
   "id": "f21ff8be",
   "metadata": {},
   "outputs": [],
   "source": [
    "# decomposition\n",
    "\n",
    "decompose = seasonal_decompose(dataweapall['Total'],model='additive', period=2)\n",
    "decompose.plot()\n",
    "plt.show()"
   ]
  },
  {
   "cell_type": "code",
   "execution_count": null,
   "id": "ef3854ba",
   "metadata": {},
   "outputs": [],
   "source": [
    "split = round((len(dataweapall)*0.8))\n",
    "\n",
    "train = dataweapall['Total'][:split]\n",
    "test = dataweapall['Total'][split:]"
   ]
  },
  {
   "cell_type": "code",
   "execution_count": null,
   "id": "bf66fe92",
   "metadata": {},
   "outputs": [],
   "source": [
    "from pmdarima.arima import auto_arima\n",
    "model2 = auto_arima(train, trace=True, error_action='ignore', suppress_warnings=True, seasonal=False,  m=12)\n",
    "model2.fit(train)"
   ]
  },
  {
   "cell_type": "code",
   "execution_count": null,
   "id": "3673c020",
   "metadata": {},
   "outputs": [],
   "source": [
    "test"
   ]
  },
  {
   "cell_type": "code",
   "execution_count": null,
   "id": "189ac6c6",
   "metadata": {},
   "outputs": [],
   "source": [
    "predtest = model2.predict(n_periods=len(test))\n",
    "predtest = pd.DataFrame(predtest,index = test.index,columns=['Prediction'])\n",
    "\n",
    "r2_score(predtest,test)\n",
    "\n",
    "# very bad results due to small amount of data, better resuls with linear regression??\n",
    "\n",
    "# first lets try building timeseries with all the data from previous years"
   ]
  },
  {
   "cell_type": "code",
   "execution_count": null,
   "id": "34756fa7",
   "metadata": {},
   "outputs": [],
   "source": [
    "predtest['Prediction']"
   ]
  },
  {
   "cell_type": "code",
   "execution_count": null,
   "id": "5e56ffbc",
   "metadata": {},
   "outputs": [],
   "source": [
    "#linear regression\n",
    "dataweap"
   ]
  },
  {
   "cell_type": "code",
   "execution_count": null,
   "id": "1d61f609",
   "metadata": {},
   "outputs": [],
   "source": [
    "sns.lineplot(data=dataweap,x='Calendar_Year',y='ATF_Form_2')"
   ]
  },
  {
   "cell_type": "code",
   "execution_count": null,
   "id": "20ad73b2",
   "metadata": {},
   "outputs": [],
   "source": [
    "import statsmodels.api as sm\n",
    "\n",
    "X = sm.add_constant(dataweap['Calendar_Year'])\n",
    "Y = dataweap['ATF_Form_2']\n",
    "model = sm.OLS(Y,X)\n",
    "results = model.fit()\n",
    "predictions = results.predict(X)"
   ]
  },
  {
   "cell_type": "code",
   "execution_count": null,
   "id": "b85d5476",
   "metadata": {},
   "outputs": [],
   "source": [
    "predframe = pd.DataFrame({'Year':dataweap['Calendar_Year'],'ATF_Form_2':predictions})"
   ]
  },
  {
   "cell_type": "code",
   "execution_count": null,
   "id": "b06b23f1",
   "metadata": {},
   "outputs": [],
   "source": [
    "sns.lineplot(data=predframe,x='Year',y='ATF_Form_2')"
   ]
  },
  {
   "cell_type": "code",
   "execution_count": null,
   "id": "c37b3279",
   "metadata": {},
   "outputs": [],
   "source": [
    "# does in deed show the general trend, therefor better suited to predict future vaues than first attempt of using timeseries"
   ]
  },
  {
   "cell_type": "code",
   "execution_count": null,
   "id": "82d8621c",
   "metadata": {},
   "outputs": [],
   "source": [
    "listyear = [2015,2016,2017,2018]\n",
    "newyear = pd.DataFrame({'Calendar_Year':listyear})\n",
    "newX = sm.add_constant(newyear['Calendar_Year'])\n",
    "newyear['ATF_Form_2'] = results.predict(newX)\n",
    "allyear = pd.concat([dataweap,newyear],axis=0,ignore_index=True)"
   ]
  },
  {
   "cell_type": "code",
   "execution_count": null,
   "id": "47d8ab64",
   "metadata": {},
   "outputs": [],
   "source": [
    "allyear"
   ]
  },
  {
   "cell_type": "code",
   "execution_count": null,
   "id": "6ab038b3",
   "metadata": {},
   "outputs": [],
   "source": [
    "sns.lineplot(data=allyear,x='Calendar_Year',y='ATF_Form_2')"
   ]
  },
  {
   "cell_type": "code",
   "execution_count": null,
   "id": "369e2c56",
   "metadata": {},
   "outputs": [],
   "source": [
    "# try it with all data\n",
    "Xa = sm.add_constant(dataweapall['Calendar_Year'])\n",
    "Ya = dataweapall['ATF_Form_2']\n",
    "model = sm.OLS(Ya,Xa)\n",
    "resultsa = model.fit()\n",
    "predictionsa = results.predict(Xa)"
   ]
  },
  {
   "cell_type": "code",
   "execution_count": null,
   "id": "fa5402df",
   "metadata": {},
   "outputs": [],
   "source": [
    "listyear = [2015,2016,2017,2018]\n",
    "newyear = pd.DataFrame({'Calendar_Year':listyear})\n",
    "newX = sm.add_constant(newyear['Calendar_Year'])\n",
    "newyear['ATF_Form_2'] = resultsa.predict(newX)\n",
    "allyeara = pd.concat([dataweapall,newyear],axis=0, ignore_index=True)"
   ]
  },
  {
   "cell_type": "code",
   "execution_count": null,
   "id": "2f4b4152",
   "metadata": {},
   "outputs": [],
   "source": [
    "allyear"
   ]
  },
  {
   "cell_type": "code",
   "execution_count": null,
   "id": "9f96f94c",
   "metadata": {},
   "outputs": [],
   "source": [
    "newval = []\n",
    "for x in list(allyeara['ATF_Form_2'].values):\n",
    "    x = str(x)\n",
    "    new = x.replace(',','')\n",
    "    newval.append(new)\n",
    "allyeara['ATF_Form_2'] = newval\n",
    "allyeara['ATF_Form_2'] = allyeara['ATF_Form_2'].apply(pd.to_numeric) "
   ]
  },
  {
   "cell_type": "code",
   "execution_count": null,
   "id": "062f37d8",
   "metadata": {},
   "outputs": [],
   "source": [
    "allyeara.info()"
   ]
  },
  {
   "cell_type": "code",
   "execution_count": null,
   "id": "08e97059",
   "metadata": {},
   "outputs": [],
   "source": [
    "allyeara"
   ]
  },
  {
   "cell_type": "code",
   "execution_count": null,
   "id": "992c45c1",
   "metadata": {},
   "outputs": [],
   "source": [
    "allyeara.set_index('Calendar_Year',inplace=True)"
   ]
  },
  {
   "cell_type": "code",
   "execution_count": null,
   "id": "0ebfff3f",
   "metadata": {},
   "outputs": [],
   "source": [
    "allyeara.reset_index(inplace=True)"
   ]
  },
  {
   "cell_type": "code",
   "execution_count": null,
   "id": "805c7f2e",
   "metadata": {},
   "outputs": [],
   "source": [
    "allyeara"
   ]
  },
  {
   "cell_type": "code",
   "execution_count": null,
   "id": "34c6135a",
   "metadata": {},
   "outputs": [],
   "source": [
    "sns.lineplot(data=allyeara,x='Calendar_Year',y='ATF_Form_2')"
   ]
  },
  {
   "cell_type": "code",
   "execution_count": null,
   "id": "f7ce8624",
   "metadata": {},
   "outputs": [],
   "source": [
    "# taken into account more values, lets take the allyeara dataset"
   ]
  },
  {
   "cell_type": "code",
   "execution_count": null,
   "id": "d10583c1",
   "metadata": {},
   "outputs": [],
   "source": []
  },
  {
   "cell_type": "code",
   "execution_count": null,
   "id": "d6033144",
   "metadata": {},
   "outputs": [],
   "source": [
    "# lets rather make a time series prediction, now having updated using the right columns, we see an rather exponential development\n",
    "# lets make a timeseries"
   ]
  },
  {
   "cell_type": "code",
   "execution_count": null,
   "id": "6396450c",
   "metadata": {},
   "outputs": [],
   "source": [
    "dataweapall"
   ]
  },
  {
   "cell_type": "code",
   "execution_count": null,
   "id": "6be2d918",
   "metadata": {},
   "outputs": [],
   "source": [
    "from autots import AutoTS, load_daily\n",
    "model = AutoTS(\n",
    "    forecast_length=5,\n",
    "    frequency='infer',\n",
    "    prediction_interval=0.4,\n",
    "    ensemble=None,\n",
    "    model_list=\"fast\",  # \"superfast\", \"default\", \"fast_parallel\"\n",
    "    transformer_list=\"fast\",  # \"superfast\",\n",
    "    drop_most_recent=1,\n",
    "    max_generations=3,\n",
    "    num_validations=3,\n",
    "    validation_method=\"backwards\",\n",
    "    #min_allowed_train_percent=0.6\n",
    ")"
   ]
  },
  {
   "cell_type": "code",
   "execution_count": null,
   "id": "885cc768",
   "metadata": {},
   "outputs": [],
   "source": [
    "model = model.fit(\n",
    "    dataweapall,\n",
    "    date_col='Calendar_Year',\n",
    "    value_col='ATF_Form_2'\n",
    "    #id_col='series_id' if long else None,\n",
    ")"
   ]
  },
  {
   "cell_type": "code",
   "execution_count": null,
   "id": "dedaea44",
   "metadata": {},
   "outputs": [],
   "source": [
    "dataweapall"
   ]
  },
  {
   "cell_type": "code",
   "execution_count": null,
   "id": "926683ed",
   "metadata": {},
   "outputs": [],
   "source": [
    "prediction = model.predict()\n",
    "prediction\n",
    "prediction.forecast.set_index(pd.Index(list(np.arange(24,29))),inplace=True)\n",
    "forecastdfnew2 = prediction.upper_forecast\n",
    "prediction.upper_forecast.set_index(pd.Index(list(np.arange(24,29))),inplace=True)\n",
    "forecastdfnew = prediction.forecast\n",
    "prediction.lower_forecast.set_index(pd.Index(list(np.arange(24,29))),inplace=True)\n",
    "forecastdfnew3 = prediction.upper_forecast\n",
    "\n",
    "plt.plot(dataweapall['ATF_Form_2'], color = \"black\")\n",
    "plt.plot(forecastdfnew2['ATF_Form_2'], color='red')\n",
    "plt.plot(forecastdfnew['ATF_Form_2'], color='blue')\n",
    "plt.plot(forecastdfnew3['ATF_Form_2'], color='green')\n",
    "plt.title(\"Train/Test split guns registered\")\n",
    "plt.ylabel(\"guns\")\n",
    "plt.xlabel('Year')\n",
    "sns.set()\n",
    "plt.show()"
   ]
  },
  {
   "cell_type": "code",
   "execution_count": null,
   "id": "34b8533d",
   "metadata": {},
   "outputs": [],
   "source": [
    "# forecast 3 seems to follow tredn best\n",
    "\n",
    "# make a new dataframe finished and update the file below to folder, then go and run the model again with updated data frame\n",
    "\n",
    "# check results, but everything should be the same"
   ]
  },
  {
   "cell_type": "code",
   "execution_count": null,
   "id": "65df17e4",
   "metadata": {},
   "outputs": [],
   "source": [
    "finfore = pd.DataFrame({'Calendar_Year':list(np.arange(2015,2019)), 'ATF_Form_2':list(forecastdfnew3['ATF_Form_2'].values)[1:]})"
   ]
  },
  {
   "cell_type": "code",
   "execution_count": null,
   "id": "b0671c1f",
   "metadata": {},
   "outputs": [],
   "source": [
    "finweap = pd.concat([dataweapall, finfore],axis=0,ignore_index=True)"
   ]
  },
  {
   "cell_type": "code",
   "execution_count": null,
   "id": "ae38596c",
   "metadata": {},
   "outputs": [],
   "source": [
    "finweap = finweap[finweap['Calendar_Year']>=2002]"
   ]
  },
  {
   "cell_type": "code",
   "execution_count": null,
   "id": "9743dc58",
   "metadata": {},
   "outputs": [],
   "source": [
    "finweap.to_csv(r'C:\\Users\\leube\\Ironhack\\Ironprojects\\Module_3\\final_project\\the-dark-side-of-social-media-\\clean_data\\weapons_US_cleaned_2.csv')"
   ]
  },
  {
   "cell_type": "code",
   "execution_count": null,
   "id": "d58b3eb6",
   "metadata": {},
   "outputs": [],
   "source": []
  }
 ],
 "metadata": {
  "kernelspec": {
   "display_name": "Python 3 (ipykernel)",
   "language": "python",
   "name": "python3"
  },
  "language_info": {
   "codemirror_mode": {
    "name": "ipython",
    "version": 3
   },
   "file_extension": ".py",
   "mimetype": "text/x-python",
   "name": "python",
   "nbconvert_exporter": "python",
   "pygments_lexer": "ipython3",
   "version": "3.9.12"
  }
 },
 "nbformat": 4,
 "nbformat_minor": 5
}
